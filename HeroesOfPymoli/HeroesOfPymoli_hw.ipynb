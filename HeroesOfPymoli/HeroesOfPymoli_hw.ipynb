{
 "cells": [
  {
   "cell_type": "markdown",
   "metadata": {},
   "source": [
    "### Heroes Of Pymoli Data Analysis\n",
    "* Of the 1163 active players, the vast majority are male (84%). There also exists, a smaller, but notable proportion of female players (14%).\n",
    "\n",
    "* Our peak age demographic falls between 20-24 (44.8%) with secondary groups falling between 15-19 (18.60%) and 25-29 (13.4%).  \n",
    "-----"
   ]
  },
  {
   "cell_type": "markdown",
   "metadata": {},
   "source": [
    "### Note\n",
    "* Instructions have been included for each segment. You do not have to follow them exactly, but they are included to help you think through the steps."
   ]
  },
  {
   "cell_type": "code",
   "execution_count": 20,
   "metadata": {},
   "outputs": [
    {
     "data": {
      "text/html": [
       "<div>\n",
       "<style scoped>\n",
       "    .dataframe tbody tr th:only-of-type {\n",
       "        vertical-align: middle;\n",
       "    }\n",
       "\n",
       "    .dataframe tbody tr th {\n",
       "        vertical-align: top;\n",
       "    }\n",
       "\n",
       "    .dataframe thead th {\n",
       "        text-align: right;\n",
       "    }\n",
       "</style>\n",
       "<table border=\"1\" class=\"dataframe\">\n",
       "  <thead>\n",
       "    <tr style=\"text-align: right;\">\n",
       "      <th></th>\n",
       "      <th>Purchase ID</th>\n",
       "      <th>SN</th>\n",
       "      <th>Age</th>\n",
       "      <th>Gender</th>\n",
       "      <th>Item ID</th>\n",
       "      <th>Item Name</th>\n",
       "      <th>Price</th>\n",
       "    </tr>\n",
       "  </thead>\n",
       "  <tbody>\n",
       "    <tr>\n",
       "      <td>0</td>\n",
       "      <td>0</td>\n",
       "      <td>Lisim78</td>\n",
       "      <td>20</td>\n",
       "      <td>Male</td>\n",
       "      <td>108</td>\n",
       "      <td>Extraction, Quickblade Of Trembling Hands</td>\n",
       "      <td>3.53</td>\n",
       "    </tr>\n",
       "    <tr>\n",
       "      <td>1</td>\n",
       "      <td>1</td>\n",
       "      <td>Lisovynya38</td>\n",
       "      <td>40</td>\n",
       "      <td>Male</td>\n",
       "      <td>143</td>\n",
       "      <td>Frenzied Scimitar</td>\n",
       "      <td>1.56</td>\n",
       "    </tr>\n",
       "    <tr>\n",
       "      <td>2</td>\n",
       "      <td>2</td>\n",
       "      <td>Ithergue48</td>\n",
       "      <td>24</td>\n",
       "      <td>Male</td>\n",
       "      <td>92</td>\n",
       "      <td>Final Critic</td>\n",
       "      <td>4.88</td>\n",
       "    </tr>\n",
       "    <tr>\n",
       "      <td>3</td>\n",
       "      <td>3</td>\n",
       "      <td>Chamassasya86</td>\n",
       "      <td>24</td>\n",
       "      <td>Male</td>\n",
       "      <td>100</td>\n",
       "      <td>Blindscythe</td>\n",
       "      <td>3.27</td>\n",
       "    </tr>\n",
       "    <tr>\n",
       "      <td>4</td>\n",
       "      <td>4</td>\n",
       "      <td>Iskosia90</td>\n",
       "      <td>23</td>\n",
       "      <td>Male</td>\n",
       "      <td>131</td>\n",
       "      <td>Fury</td>\n",
       "      <td>1.44</td>\n",
       "    </tr>\n",
       "    <tr>\n",
       "      <td>...</td>\n",
       "      <td>...</td>\n",
       "      <td>...</td>\n",
       "      <td>...</td>\n",
       "      <td>...</td>\n",
       "      <td>...</td>\n",
       "      <td>...</td>\n",
       "      <td>...</td>\n",
       "    </tr>\n",
       "    <tr>\n",
       "      <td>775</td>\n",
       "      <td>775</td>\n",
       "      <td>Aethedru70</td>\n",
       "      <td>21</td>\n",
       "      <td>Female</td>\n",
       "      <td>60</td>\n",
       "      <td>Wolf</td>\n",
       "      <td>3.54</td>\n",
       "    </tr>\n",
       "    <tr>\n",
       "      <td>776</td>\n",
       "      <td>776</td>\n",
       "      <td>Iral74</td>\n",
       "      <td>21</td>\n",
       "      <td>Male</td>\n",
       "      <td>164</td>\n",
       "      <td>Exiled Doomblade</td>\n",
       "      <td>1.63</td>\n",
       "    </tr>\n",
       "    <tr>\n",
       "      <td>777</td>\n",
       "      <td>777</td>\n",
       "      <td>Yathecal72</td>\n",
       "      <td>20</td>\n",
       "      <td>Male</td>\n",
       "      <td>67</td>\n",
       "      <td>Celeste, Incarnation of the Corrupted</td>\n",
       "      <td>3.46</td>\n",
       "    </tr>\n",
       "    <tr>\n",
       "      <td>778</td>\n",
       "      <td>778</td>\n",
       "      <td>Sisur91</td>\n",
       "      <td>7</td>\n",
       "      <td>Male</td>\n",
       "      <td>92</td>\n",
       "      <td>Final Critic</td>\n",
       "      <td>4.19</td>\n",
       "    </tr>\n",
       "    <tr>\n",
       "      <td>779</td>\n",
       "      <td>779</td>\n",
       "      <td>Ennrian78</td>\n",
       "      <td>24</td>\n",
       "      <td>Male</td>\n",
       "      <td>50</td>\n",
       "      <td>Dawn</td>\n",
       "      <td>4.60</td>\n",
       "    </tr>\n",
       "  </tbody>\n",
       "</table>\n",
       "<p>780 rows × 7 columns</p>\n",
       "</div>"
      ],
      "text/plain": [
       "     Purchase ID             SN  Age  Gender  Item ID  \\\n",
       "0              0        Lisim78   20    Male      108   \n",
       "1              1    Lisovynya38   40    Male      143   \n",
       "2              2     Ithergue48   24    Male       92   \n",
       "3              3  Chamassasya86   24    Male      100   \n",
       "4              4      Iskosia90   23    Male      131   \n",
       "..           ...            ...  ...     ...      ...   \n",
       "775          775     Aethedru70   21  Female       60   \n",
       "776          776         Iral74   21    Male      164   \n",
       "777          777     Yathecal72   20    Male       67   \n",
       "778          778        Sisur91    7    Male       92   \n",
       "779          779      Ennrian78   24    Male       50   \n",
       "\n",
       "                                     Item Name  Price  \n",
       "0    Extraction, Quickblade Of Trembling Hands   3.53  \n",
       "1                            Frenzied Scimitar   1.56  \n",
       "2                                 Final Critic   4.88  \n",
       "3                                  Blindscythe   3.27  \n",
       "4                                         Fury   1.44  \n",
       "..                                         ...    ...  \n",
       "775                                       Wolf   3.54  \n",
       "776                           Exiled Doomblade   1.63  \n",
       "777      Celeste, Incarnation of the Corrupted   3.46  \n",
       "778                               Final Critic   4.19  \n",
       "779                                       Dawn   4.60  \n",
       "\n",
       "[780 rows x 7 columns]"
      ]
     },
     "execution_count": 20,
     "metadata": {},
     "output_type": "execute_result"
    }
   ],
   "source": [
    "# Dependencies and Setup\n",
    "import pandas as pd\n",
    "import pathlib\n",
    "\n",
    "# File to Load (Remember to Change These)\n",
    "file_to_load = pathlib.Path(\"Resources/purchase_data.csv\")\n",
    "\n",
    "# Read Purchasing File and store into Pandas data frame\n",
    "purchase_data = pd.read_csv(file_to_load)\n",
    "purchase_data"
   ]
  },
  {
   "cell_type": "markdown",
   "metadata": {},
   "source": [
    "## Player Count"
   ]
  },
  {
   "cell_type": "markdown",
   "metadata": {},
   "source": [
    "* Display the total number of players\n"
   ]
  },
  {
   "cell_type": "code",
   "execution_count": 2,
   "metadata": {},
   "outputs": [
    {
     "data": {
      "text/plain": [
       "576"
      ]
     },
     "execution_count": 2,
     "metadata": {},
     "output_type": "execute_result"
    }
   ],
   "source": [
    "len(pd.unique(purchase_data['SN']))"
   ]
  },
  {
   "cell_type": "markdown",
   "metadata": {},
   "source": [
    "## Purchasing Analysis (Total)"
   ]
  },
  {
   "cell_type": "markdown",
   "metadata": {},
   "source": [
    "* Run basic calculations to obtain number of unique items, average price, etc.\n",
    "\n",
    "\n",
    "* Create a summary data frame to hold the results\n",
    "\n",
    "\n",
    "* Optional: give the displayed data cleaner formatting\n",
    "\n",
    "\n",
    "* Display the summary data frame\n"
   ]
  },
  {
   "cell_type": "code",
   "execution_count": 3,
   "metadata": {},
   "outputs": [
    {
     "data": {
      "text/plain": [
       "179"
      ]
     },
     "execution_count": 3,
     "metadata": {},
     "output_type": "execute_result"
    }
   ],
   "source": [
    "number_of_unique_items = len(pd.unique(purchase_data[\"Item ID\"]))\n",
    "number_of_unique_items"
   ]
  },
  {
   "cell_type": "code",
   "execution_count": 4,
   "metadata": {},
   "outputs": [
    {
     "data": {
      "text/plain": [
       "3.05"
      ]
     },
     "execution_count": 4,
     "metadata": {},
     "output_type": "execute_result"
    }
   ],
   "source": [
    "average_price = round(purchase_data[\"Price\"].mean(), 2)\n",
    "average_price"
   ]
  },
  {
   "cell_type": "code",
   "execution_count": 5,
   "metadata": {
    "scrolled": true
   },
   "outputs": [
    {
     "data": {
      "text/plain": [
       "780"
      ]
     },
     "execution_count": 5,
     "metadata": {},
     "output_type": "execute_result"
    }
   ],
   "source": [
    "number_of_purchases = purchase_data[\"Purchase ID\"].count()\n",
    "number_of_purchases"
   ]
  },
  {
   "cell_type": "code",
   "execution_count": 6,
   "metadata": {},
   "outputs": [
    {
     "data": {
      "text/plain": [
       "2379.77"
      ]
     },
     "execution_count": 6,
     "metadata": {},
     "output_type": "execute_result"
    }
   ],
   "source": [
    "total_revenue = purchase_data[\"Price\"].sum()\n",
    "total_revenue"
   ]
  },
  {
   "cell_type": "code",
   "execution_count": null,
   "metadata": {},
   "outputs": [],
   "source": []
  },
  {
   "cell_type": "code",
   "execution_count": 7,
   "metadata": {},
   "outputs": [
    {
     "data": {
      "text/html": [
       "<div>\n",
       "<style scoped>\n",
       "    .dataframe tbody tr th:only-of-type {\n",
       "        vertical-align: middle;\n",
       "    }\n",
       "\n",
       "    .dataframe tbody tr th {\n",
       "        vertical-align: top;\n",
       "    }\n",
       "\n",
       "    .dataframe thead th {\n",
       "        text-align: right;\n",
       "    }\n",
       "</style>\n",
       "<table border=\"1\" class=\"dataframe\">\n",
       "  <thead>\n",
       "    <tr style=\"text-align: right;\">\n",
       "      <th></th>\n",
       "      <th>Number of Unique Items</th>\n",
       "      <th>Average Price</th>\n",
       "      <th>Number of Purchases</th>\n",
       "      <th>Total Revenue</th>\n",
       "    </tr>\n",
       "  </thead>\n",
       "  <tbody>\n",
       "    <tr>\n",
       "      <td>0</td>\n",
       "      <td>179</td>\n",
       "      <td>$3.05</td>\n",
       "      <td>780</td>\n",
       "      <td>$2379.77</td>\n",
       "    </tr>\n",
       "  </tbody>\n",
       "</table>\n",
       "</div>"
      ],
      "text/plain": [
       "   Number of Unique Items Average Price  Number of Purchases Total Revenue\n",
       "0                     179         $3.05                  780      $2379.77"
      ]
     },
     "execution_count": 7,
     "metadata": {},
     "output_type": "execute_result"
    }
   ],
   "source": [
    "purchase_analysis_df =  pd.DataFrame({\"Number of Unique Items\" : number_of_unique_items,\n",
    "                         \"Average Price\": (f'${average_price}'),\n",
    "                         \"Number of Purchases\": number_of_purchases,\n",
    "                         \"Total Revenue\": (f'${total_revenue}')\n",
    "                         }, index = [0])\n",
    "purchase_analysis_df"
   ]
  },
  {
   "cell_type": "markdown",
   "metadata": {},
   "source": [
    "## Gender Demographics"
   ]
  },
  {
   "cell_type": "markdown",
   "metadata": {},
   "source": [
    "* Percentage and Count of Male Players\n",
    "\n",
    "\n",
    "* Percentage and Count of Female Players\n",
    "\n",
    "\n",
    "* Percentage and Count of Other / Non-Disclosed\n",
    "\n",
    "\n"
   ]
  },
  {
   "cell_type": "code",
   "execution_count": 8,
   "metadata": {},
   "outputs": [
    {
     "data": {
      "text/html": [
       "<div>\n",
       "<style scoped>\n",
       "    .dataframe tbody tr th:only-of-type {\n",
       "        vertical-align: middle;\n",
       "    }\n",
       "\n",
       "    .dataframe tbody tr th {\n",
       "        vertical-align: top;\n",
       "    }\n",
       "\n",
       "    .dataframe thead th {\n",
       "        text-align: right;\n",
       "    }\n",
       "</style>\n",
       "<table border=\"1\" class=\"dataframe\">\n",
       "  <thead>\n",
       "    <tr style=\"text-align: right;\">\n",
       "      <th></th>\n",
       "      <th>Count</th>\n",
       "      <th>Percentage</th>\n",
       "    </tr>\n",
       "  </thead>\n",
       "  <tbody>\n",
       "    <tr>\n",
       "      <td>Male</td>\n",
       "      <td>None</td>\n",
       "      <td>None</td>\n",
       "    </tr>\n",
       "    <tr>\n",
       "      <td>Female</td>\n",
       "      <td>None</td>\n",
       "      <td>None</td>\n",
       "    </tr>\n",
       "    <tr>\n",
       "      <td>Other/Non-Disclosed</td>\n",
       "      <td>None</td>\n",
       "      <td>None</td>\n",
       "    </tr>\n",
       "  </tbody>\n",
       "</table>\n",
       "</div>"
      ],
      "text/plain": [
       "                    Count Percentage\n",
       "Male                 None       None\n",
       "Female               None       None\n",
       "Other/Non-Disclosed  None       None"
      ]
     },
     "execution_count": 8,
     "metadata": {},
     "output_type": "execute_result"
    }
   ],
   "source": [
    "gender_d_df = pd.DataFrame([{'Count': None,'Percentage': None}], index = ['Male', 'Female', 'Other/Non-Disclosed'])\n",
    "gender_d_df"
   ]
  },
  {
   "cell_type": "code",
   "execution_count": 9,
   "metadata": {},
   "outputs": [
    {
     "data": {
      "text/plain": [
       "Male                     652\n",
       "Female                   113\n",
       "Other / Non-Disclosed     15\n",
       "Name: Gender, dtype: int64"
      ]
     },
     "execution_count": 9,
     "metadata": {},
     "output_type": "execute_result"
    }
   ],
   "source": [
    "gender_series = purchase_data[\"Gender\"].value_counts()\n",
    "gender_series"
   ]
  },
  {
   "cell_type": "code",
   "execution_count": 10,
   "metadata": {},
   "outputs": [
    {
     "data": {
      "text/plain": [
       "780"
      ]
     },
     "execution_count": 10,
     "metadata": {},
     "output_type": "execute_result"
    }
   ],
   "source": [
    "gender_total = gender_series.sum()\n",
    "gender_total"
   ]
  },
  {
   "cell_type": "code",
   "execution_count": 11,
   "metadata": {},
   "outputs": [
    {
     "data": {
      "text/html": [
       "<style  type=\"text/css\" >\n",
       "</style><table id=\"T_b944bd5c_82bf_11ea_8e4a_38f9d36b63cc\" ><thead>    <tr>        <th class=\"blank level0\" ></th>        <th class=\"col_heading level0 col0\" >Count</th>        <th class=\"col_heading level0 col1\" >Percentage</th>    </tr></thead><tbody>\n",
       "                <tr>\n",
       "                        <th id=\"T_b944bd5c_82bf_11ea_8e4a_38f9d36b63cclevel0_row0\" class=\"row_heading level0 row0\" >Male</th>\n",
       "                        <td id=\"T_b944bd5c_82bf_11ea_8e4a_38f9d36b63ccrow0_col0\" class=\"data row0 col0\" >652</td>\n",
       "                        <td id=\"T_b944bd5c_82bf_11ea_8e4a_38f9d36b63ccrow0_col1\" class=\"data row0 col1\" >83.59%</td>\n",
       "            </tr>\n",
       "            <tr>\n",
       "                        <th id=\"T_b944bd5c_82bf_11ea_8e4a_38f9d36b63cclevel0_row1\" class=\"row_heading level0 row1\" >Female</th>\n",
       "                        <td id=\"T_b944bd5c_82bf_11ea_8e4a_38f9d36b63ccrow1_col0\" class=\"data row1 col0\" >113</td>\n",
       "                        <td id=\"T_b944bd5c_82bf_11ea_8e4a_38f9d36b63ccrow1_col1\" class=\"data row1 col1\" >14.49%</td>\n",
       "            </tr>\n",
       "            <tr>\n",
       "                        <th id=\"T_b944bd5c_82bf_11ea_8e4a_38f9d36b63cclevel0_row2\" class=\"row_heading level0 row2\" >Other/Non-Disclosed</th>\n",
       "                        <td id=\"T_b944bd5c_82bf_11ea_8e4a_38f9d36b63ccrow2_col0\" class=\"data row2 col0\" >15</td>\n",
       "                        <td id=\"T_b944bd5c_82bf_11ea_8e4a_38f9d36b63ccrow2_col1\" class=\"data row2 col1\" >1.92%</td>\n",
       "            </tr>\n",
       "    </tbody></table>"
      ],
      "text/plain": [
       "<pandas.io.formats.style.Styler at 0x115d79650>"
      ]
     },
     "execution_count": 11,
     "metadata": {},
     "output_type": "execute_result"
    }
   ],
   "source": [
    "gender_d_df['Count']['Male'] = gender_series[\"Male\"]\n",
    "gender_d_df['Percentage']['Male'] = gender_series[\"Male\"] / gender_total\n",
    "gender_d_df['Count']['Female'] = gender_series[\"Female\"]\n",
    "gender_d_df['Percentage']['Female'] = gender_series[\"Female\"] / gender_total\n",
    "gender_d_df['Count']['Other/Non-Disclosed'] = gender_series[\"Other / Non-Disclosed\"]\n",
    "gender_d_df['Percentage']['Other/Non-Disclosed'] = gender_series[\"Other / Non-Disclosed\"] / gender_total\n",
    "formatted_d_gender_df = gender_d_df.style.format({'Percentage': '{:.2%}' })\n",
    "formatted_d_gender_df"
   ]
  },
  {
   "cell_type": "markdown",
   "metadata": {},
   "source": [
    "\n",
    "## Purchasing Analysis (Gender)"
   ]
  },
  {
   "cell_type": "markdown",
   "metadata": {},
   "source": [
    "* Run basic calculations to obtain purchase count, avg. purchase price, avg. purchase total per person etc. by gender\n",
    "\n",
    "\n",
    "\n",
    "\n",
    "* Create a summary data frame to hold the results\n",
    "\n",
    "\n",
    "* Optional: give the displayed data cleaner formatting\n",
    "\n",
    "\n",
    "* Display the summary data frame"
   ]
  },
  {
   "cell_type": "code",
   "execution_count": 12,
   "metadata": {},
   "outputs": [
    {
     "data": {
      "text/plain": [
       "Gender\n",
       "Female                   113\n",
       "Male                     652\n",
       "Other / Non-Disclosed     15\n",
       "Name: Purchase Count, dtype: int64"
      ]
     },
     "execution_count": 12,
     "metadata": {},
     "output_type": "execute_result"
    }
   ],
   "source": [
    "by_gender_group = purchase_data.groupby(\"Gender\")\n",
    "\n",
    "purchase_count = by_gender_group.count()[\"Purchase ID\"]\n",
    "purchase_count.name = \"Purchase Count\"\n",
    "purchase_count"
   ]
  },
  {
   "cell_type": "code",
   "execution_count": 13,
   "metadata": {},
   "outputs": [
    {
     "data": {
      "text/plain": [
       "Gender\n",
       "Female                   3.203009\n",
       "Male                     3.017853\n",
       "Other / Non-Disclosed    3.346000\n",
       "Name: Average Purchase Price, dtype: float64"
      ]
     },
     "execution_count": 13,
     "metadata": {},
     "output_type": "execute_result"
    }
   ],
   "source": [
    "average_purchase_price = by_gender_group[\"Price\"].mean()\n",
    "average_purchase_price.name = \"Average Purchase Price\"\n",
    "average_purchase_price"
   ]
  },
  {
   "cell_type": "code",
   "execution_count": 14,
   "metadata": {},
   "outputs": [
    {
     "data": {
      "text/plain": [
       "Gender\n",
       "Female                   4.468395\n",
       "Male                     4.065372\n",
       "Other / Non-Disclosed    4.562727\n",
       "Name: Average of Total of Purchases Per Person, dtype: float64"
      ]
     },
     "execution_count": 14,
     "metadata": {},
     "output_type": "execute_result"
    }
   ],
   "source": [
    "by_person_group = purchase_data.groupby([\"SN\", \"Gender\"])\n",
    "average_purchase_total = by_person_group.sum()\n",
    "average_purchase_total = average_purchase_total[\"Price\"].groupby([\"Gender\"]).mean()\n",
    "average_purchase_total.name = \"Average of Total of Purchases Per Person\"\n",
    "average_purchase_total"
   ]
  },
  {
   "cell_type": "code",
   "execution_count": 15,
   "metadata": {},
   "outputs": [
    {
     "data": {
      "text/plain": [
       "Gender\n",
       "Female                    361.94\n",
       "Male                     1967.64\n",
       "Other / Non-Disclosed      50.19\n",
       "Name: Total Purchase Value, dtype: float64"
      ]
     },
     "execution_count": 15,
     "metadata": {},
     "output_type": "execute_result"
    }
   ],
   "source": [
    "\n",
    "total_purchase_value = by_gender_group[\"Price\"].sum()\n",
    "total_purchase_value.name = \"Total Purchase Value\"\n",
    "total_purchase_value"
   ]
  },
  {
   "cell_type": "code",
   "execution_count": 16,
   "metadata": {},
   "outputs": [
    {
     "data": {
      "text/html": [
       "<div>\n",
       "<style scoped>\n",
       "    .dataframe tbody tr th:only-of-type {\n",
       "        vertical-align: middle;\n",
       "    }\n",
       "\n",
       "    .dataframe tbody tr th {\n",
       "        vertical-align: top;\n",
       "    }\n",
       "\n",
       "    .dataframe thead th {\n",
       "        text-align: right;\n",
       "    }\n",
       "</style>\n",
       "<table border=\"1\" class=\"dataframe\">\n",
       "  <thead>\n",
       "    <tr style=\"text-align: right;\">\n",
       "      <th></th>\n",
       "      <th>Purchase Count</th>\n",
       "      <th>Average Purchase Price</th>\n",
       "      <th>Average of Total of Purchases Per Person</th>\n",
       "      <th>Total Purchase Value</th>\n",
       "    </tr>\n",
       "    <tr>\n",
       "      <th>Gender</th>\n",
       "      <th></th>\n",
       "      <th></th>\n",
       "      <th></th>\n",
       "      <th></th>\n",
       "    </tr>\n",
       "  </thead>\n",
       "  <tbody>\n",
       "    <tr>\n",
       "      <td>Female</td>\n",
       "      <td>113</td>\n",
       "      <td>3.203009</td>\n",
       "      <td>4.468395</td>\n",
       "      <td>361.94</td>\n",
       "    </tr>\n",
       "    <tr>\n",
       "      <td>Male</td>\n",
       "      <td>652</td>\n",
       "      <td>3.017853</td>\n",
       "      <td>4.065372</td>\n",
       "      <td>1967.64</td>\n",
       "    </tr>\n",
       "    <tr>\n",
       "      <td>Other / Non-Disclosed</td>\n",
       "      <td>15</td>\n",
       "      <td>3.346000</td>\n",
       "      <td>4.562727</td>\n",
       "      <td>50.19</td>\n",
       "    </tr>\n",
       "  </tbody>\n",
       "</table>\n",
       "</div>"
      ],
      "text/plain": [
       "                       Purchase Count  Average Purchase Price  \\\n",
       "Gender                                                          \n",
       "Female                            113                3.203009   \n",
       "Male                              652                3.017853   \n",
       "Other / Non-Disclosed              15                3.346000   \n",
       "\n",
       "                       Average of Total of Purchases Per Person  \\\n",
       "Gender                                                            \n",
       "Female                                                 4.468395   \n",
       "Male                                                   4.065372   \n",
       "Other / Non-Disclosed                                  4.562727   \n",
       "\n",
       "                       Total Purchase Value  \n",
       "Gender                                       \n",
       "Female                               361.94  \n",
       "Male                                1967.64  \n",
       "Other / Non-Disclosed                 50.19  "
      ]
     },
     "execution_count": 16,
     "metadata": {},
     "output_type": "execute_result"
    }
   ],
   "source": [
    "by_gender_df = pd.concat([purchase_count, average_purchase_price, average_purchase_total, total_purchase_value], axis = 1)\n",
    "by_gender_df"
   ]
  },
  {
   "cell_type": "code",
   "execution_count": 17,
   "metadata": {},
   "outputs": [
    {
     "data": {
      "text/html": [
       "<style  type=\"text/css\" >\n",
       "</style><table id=\"T_cfc191a4_82bf_11ea_8e4a_38f9d36b63cc\" ><thead>    <tr>        <th class=\"blank level0\" ></th>        <th class=\"col_heading level0 col0\" >Purchase Count</th>        <th class=\"col_heading level0 col1\" >Average Purchase Price</th>        <th class=\"col_heading level0 col2\" >Average of Total of Purchases Per Person</th>        <th class=\"col_heading level0 col3\" >Total Purchase Value</th>    </tr>    <tr>        <th class=\"index_name level0\" >Gender</th>        <th class=\"blank\" ></th>        <th class=\"blank\" ></th>        <th class=\"blank\" ></th>        <th class=\"blank\" ></th>    </tr></thead><tbody>\n",
       "                <tr>\n",
       "                        <th id=\"T_cfc191a4_82bf_11ea_8e4a_38f9d36b63cclevel0_row0\" class=\"row_heading level0 row0\" >Female</th>\n",
       "                        <td id=\"T_cfc191a4_82bf_11ea_8e4a_38f9d36b63ccrow0_col0\" class=\"data row0 col0\" >113</td>\n",
       "                        <td id=\"T_cfc191a4_82bf_11ea_8e4a_38f9d36b63ccrow0_col1\" class=\"data row0 col1\" >$3.20</td>\n",
       "                        <td id=\"T_cfc191a4_82bf_11ea_8e4a_38f9d36b63ccrow0_col2\" class=\"data row0 col2\" >$4.47</td>\n",
       "                        <td id=\"T_cfc191a4_82bf_11ea_8e4a_38f9d36b63ccrow0_col3\" class=\"data row0 col3\" >$361.94</td>\n",
       "            </tr>\n",
       "            <tr>\n",
       "                        <th id=\"T_cfc191a4_82bf_11ea_8e4a_38f9d36b63cclevel0_row1\" class=\"row_heading level0 row1\" >Male</th>\n",
       "                        <td id=\"T_cfc191a4_82bf_11ea_8e4a_38f9d36b63ccrow1_col0\" class=\"data row1 col0\" >652</td>\n",
       "                        <td id=\"T_cfc191a4_82bf_11ea_8e4a_38f9d36b63ccrow1_col1\" class=\"data row1 col1\" >$3.02</td>\n",
       "                        <td id=\"T_cfc191a4_82bf_11ea_8e4a_38f9d36b63ccrow1_col2\" class=\"data row1 col2\" >$4.07</td>\n",
       "                        <td id=\"T_cfc191a4_82bf_11ea_8e4a_38f9d36b63ccrow1_col3\" class=\"data row1 col3\" >$1,967.64</td>\n",
       "            </tr>\n",
       "            <tr>\n",
       "                        <th id=\"T_cfc191a4_82bf_11ea_8e4a_38f9d36b63cclevel0_row2\" class=\"row_heading level0 row2\" >Other / Non-Disclosed</th>\n",
       "                        <td id=\"T_cfc191a4_82bf_11ea_8e4a_38f9d36b63ccrow2_col0\" class=\"data row2 col0\" >15</td>\n",
       "                        <td id=\"T_cfc191a4_82bf_11ea_8e4a_38f9d36b63ccrow2_col1\" class=\"data row2 col1\" >$3.35</td>\n",
       "                        <td id=\"T_cfc191a4_82bf_11ea_8e4a_38f9d36b63ccrow2_col2\" class=\"data row2 col2\" >$4.56</td>\n",
       "                        <td id=\"T_cfc191a4_82bf_11ea_8e4a_38f9d36b63ccrow2_col3\" class=\"data row2 col3\" >$50.19</td>\n",
       "            </tr>\n",
       "    </tbody></table>"
      ],
      "text/plain": [
       "<pandas.io.formats.style.Styler at 0x116b5c0d0>"
      ]
     },
     "execution_count": 17,
     "metadata": {},
     "output_type": "execute_result"
    }
   ],
   "source": [
    "format_dict = {'Average Purchase Price':'${0:,.2f}', \"Average of Total of Purchases Per Person\":'${0:,.2f}', \"Total Purchase Value\": '${0:,.2f}' }\n",
    "formatted_by_gender_df = by_gender_df.style.format(format_dict)\n",
    "formatted_by_gender_df"
   ]
  },
  {
   "cell_type": "code",
   "execution_count": null,
   "metadata": {},
   "outputs": [],
   "source": []
  },
  {
   "cell_type": "markdown",
   "metadata": {},
   "source": [
    "## Age Demographics"
   ]
  },
  {
   "cell_type": "markdown",
   "metadata": {},
   "source": [
    "* Establish bins for ages\n",
    "\n",
    "\n",
    "* Categorize the existing players using the age bins. Hint: use pd.cut()\n",
    "\n",
    "\n",
    "* Calculate the numbers and percentages by age group\n",
    "\n",
    "\n",
    "* Create a summary data frame to hold the results\n",
    "\n",
    "\n",
    "* Optional: round the percentage column to two decimal points\n",
    "\n",
    "\n",
    "* Display Age Demographics Table\n"
   ]
  },
  {
   "cell_type": "code",
   "execution_count": 28,
   "metadata": {},
   "outputs": [
    {
     "data": {
      "text/html": [
       "<div>\n",
       "<style scoped>\n",
       "    .dataframe tbody tr th:only-of-type {\n",
       "        vertical-align: middle;\n",
       "    }\n",
       "\n",
       "    .dataframe tbody tr th {\n",
       "        vertical-align: top;\n",
       "    }\n",
       "\n",
       "    .dataframe thead th {\n",
       "        text-align: right;\n",
       "    }\n",
       "</style>\n",
       "<table border=\"1\" class=\"dataframe\">\n",
       "  <thead>\n",
       "    <tr style=\"text-align: right;\">\n",
       "      <th></th>\n",
       "      <th>Purchase ID</th>\n",
       "      <th>Age</th>\n",
       "      <th>Item ID</th>\n",
       "      <th>Price</th>\n",
       "    </tr>\n",
       "  </thead>\n",
       "  <tbody>\n",
       "    <tr>\n",
       "      <td>count</td>\n",
       "      <td>780.000000</td>\n",
       "      <td>780.000000</td>\n",
       "      <td>780.000000</td>\n",
       "      <td>780.000000</td>\n",
       "    </tr>\n",
       "    <tr>\n",
       "      <td>mean</td>\n",
       "      <td>389.500000</td>\n",
       "      <td>22.714103</td>\n",
       "      <td>91.755128</td>\n",
       "      <td>3.050987</td>\n",
       "    </tr>\n",
       "    <tr>\n",
       "      <td>std</td>\n",
       "      <td>225.310896</td>\n",
       "      <td>6.659444</td>\n",
       "      <td>52.697702</td>\n",
       "      <td>1.169549</td>\n",
       "    </tr>\n",
       "    <tr>\n",
       "      <td>min</td>\n",
       "      <td>0.000000</td>\n",
       "      <td>7.000000</td>\n",
       "      <td>0.000000</td>\n",
       "      <td>1.000000</td>\n",
       "    </tr>\n",
       "    <tr>\n",
       "      <td>25%</td>\n",
       "      <td>194.750000</td>\n",
       "      <td>20.000000</td>\n",
       "      <td>47.750000</td>\n",
       "      <td>1.980000</td>\n",
       "    </tr>\n",
       "    <tr>\n",
       "      <td>50%</td>\n",
       "      <td>389.500000</td>\n",
       "      <td>22.000000</td>\n",
       "      <td>92.000000</td>\n",
       "      <td>3.150000</td>\n",
       "    </tr>\n",
       "    <tr>\n",
       "      <td>75%</td>\n",
       "      <td>584.250000</td>\n",
       "      <td>25.000000</td>\n",
       "      <td>138.000000</td>\n",
       "      <td>4.080000</td>\n",
       "    </tr>\n",
       "    <tr>\n",
       "      <td>max</td>\n",
       "      <td>779.000000</td>\n",
       "      <td>45.000000</td>\n",
       "      <td>183.000000</td>\n",
       "      <td>4.990000</td>\n",
       "    </tr>\n",
       "  </tbody>\n",
       "</table>\n",
       "</div>"
      ],
      "text/plain": [
       "       Purchase ID         Age     Item ID       Price\n",
       "count   780.000000  780.000000  780.000000  780.000000\n",
       "mean    389.500000   22.714103   91.755128    3.050987\n",
       "std     225.310896    6.659444   52.697702    1.169549\n",
       "min       0.000000    7.000000    0.000000    1.000000\n",
       "25%     194.750000   20.000000   47.750000    1.980000\n",
       "50%     389.500000   22.000000   92.000000    3.150000\n",
       "75%     584.250000   25.000000  138.000000    4.080000\n",
       "max     779.000000   45.000000  183.000000    4.990000"
      ]
     },
     "execution_count": 28,
     "metadata": {},
     "output_type": "execute_result"
    }
   ],
   "source": [
    "purchase_data.describe()"
   ]
  },
  {
   "cell_type": "code",
   "execution_count": 502,
   "metadata": {},
   "outputs": [
    {
     "data": {
      "text/html": [
       "<div>\n",
       "<style scoped>\n",
       "    .dataframe tbody tr th:only-of-type {\n",
       "        vertical-align: middle;\n",
       "    }\n",
       "\n",
       "    .dataframe tbody tr th {\n",
       "        vertical-align: top;\n",
       "    }\n",
       "\n",
       "    .dataframe thead th {\n",
       "        text-align: right;\n",
       "    }\n",
       "</style>\n",
       "<table border=\"1\" class=\"dataframe\">\n",
       "  <thead>\n",
       "    <tr style=\"text-align: right;\">\n",
       "      <th></th>\n",
       "      <th>Purchase ID</th>\n",
       "      <th>SN</th>\n",
       "      <th>Age</th>\n",
       "      <th>Gender</th>\n",
       "      <th>Item ID</th>\n",
       "      <th>Item Name</th>\n",
       "      <th>Price</th>\n",
       "      <th>Age Group</th>\n",
       "    </tr>\n",
       "  </thead>\n",
       "  <tbody>\n",
       "    <tr>\n",
       "      <td>0</td>\n",
       "      <td>0</td>\n",
       "      <td>Lisim78</td>\n",
       "      <td>20</td>\n",
       "      <td>Male</td>\n",
       "      <td>108</td>\n",
       "      <td>Extraction, Quickblade Of Trembling Hands</td>\n",
       "      <td>3.53</td>\n",
       "      <td>17-20</td>\n",
       "    </tr>\n",
       "    <tr>\n",
       "      <td>1</td>\n",
       "      <td>1</td>\n",
       "      <td>Lisovynya38</td>\n",
       "      <td>40</td>\n",
       "      <td>Male</td>\n",
       "      <td>143</td>\n",
       "      <td>Frenzied Scimitar</td>\n",
       "      <td>1.56</td>\n",
       "      <td>37-40</td>\n",
       "    </tr>\n",
       "    <tr>\n",
       "      <td>2</td>\n",
       "      <td>2</td>\n",
       "      <td>Ithergue48</td>\n",
       "      <td>24</td>\n",
       "      <td>Male</td>\n",
       "      <td>92</td>\n",
       "      <td>Final Critic</td>\n",
       "      <td>4.88</td>\n",
       "      <td>21-24</td>\n",
       "    </tr>\n",
       "    <tr>\n",
       "      <td>3</td>\n",
       "      <td>3</td>\n",
       "      <td>Chamassasya86</td>\n",
       "      <td>24</td>\n",
       "      <td>Male</td>\n",
       "      <td>100</td>\n",
       "      <td>Blindscythe</td>\n",
       "      <td>3.27</td>\n",
       "      <td>21-24</td>\n",
       "    </tr>\n",
       "    <tr>\n",
       "      <td>4</td>\n",
       "      <td>4</td>\n",
       "      <td>Iskosia90</td>\n",
       "      <td>23</td>\n",
       "      <td>Male</td>\n",
       "      <td>131</td>\n",
       "      <td>Fury</td>\n",
       "      <td>1.44</td>\n",
       "      <td>21-24</td>\n",
       "    </tr>\n",
       "    <tr>\n",
       "      <td>...</td>\n",
       "      <td>...</td>\n",
       "      <td>...</td>\n",
       "      <td>...</td>\n",
       "      <td>...</td>\n",
       "      <td>...</td>\n",
       "      <td>...</td>\n",
       "      <td>...</td>\n",
       "      <td>...</td>\n",
       "    </tr>\n",
       "    <tr>\n",
       "      <td>775</td>\n",
       "      <td>775</td>\n",
       "      <td>Aethedru70</td>\n",
       "      <td>21</td>\n",
       "      <td>Female</td>\n",
       "      <td>60</td>\n",
       "      <td>Wolf</td>\n",
       "      <td>3.54</td>\n",
       "      <td>21-24</td>\n",
       "    </tr>\n",
       "    <tr>\n",
       "      <td>776</td>\n",
       "      <td>776</td>\n",
       "      <td>Iral74</td>\n",
       "      <td>21</td>\n",
       "      <td>Male</td>\n",
       "      <td>164</td>\n",
       "      <td>Exiled Doomblade</td>\n",
       "      <td>1.63</td>\n",
       "      <td>21-24</td>\n",
       "    </tr>\n",
       "    <tr>\n",
       "      <td>777</td>\n",
       "      <td>777</td>\n",
       "      <td>Yathecal72</td>\n",
       "      <td>20</td>\n",
       "      <td>Male</td>\n",
       "      <td>67</td>\n",
       "      <td>Celeste, Incarnation of the Corrupted</td>\n",
       "      <td>3.46</td>\n",
       "      <td>17-20</td>\n",
       "    </tr>\n",
       "    <tr>\n",
       "      <td>778</td>\n",
       "      <td>778</td>\n",
       "      <td>Sisur91</td>\n",
       "      <td>7</td>\n",
       "      <td>Male</td>\n",
       "      <td>92</td>\n",
       "      <td>Final Critic</td>\n",
       "      <td>4.19</td>\n",
       "      <td>5-8</td>\n",
       "    </tr>\n",
       "    <tr>\n",
       "      <td>779</td>\n",
       "      <td>779</td>\n",
       "      <td>Ennrian78</td>\n",
       "      <td>24</td>\n",
       "      <td>Male</td>\n",
       "      <td>50</td>\n",
       "      <td>Dawn</td>\n",
       "      <td>4.60</td>\n",
       "      <td>21-24</td>\n",
       "    </tr>\n",
       "  </tbody>\n",
       "</table>\n",
       "<p>780 rows × 8 columns</p>\n",
       "</div>"
      ],
      "text/plain": [
       "     Purchase ID             SN  Age  Gender  Item ID  \\\n",
       "0              0        Lisim78   20    Male      108   \n",
       "1              1    Lisovynya38   40    Male      143   \n",
       "2              2     Ithergue48   24    Male       92   \n",
       "3              3  Chamassasya86   24    Male      100   \n",
       "4              4      Iskosia90   23    Male      131   \n",
       "..           ...            ...  ...     ...      ...   \n",
       "775          775     Aethedru70   21  Female       60   \n",
       "776          776         Iral74   21    Male      164   \n",
       "777          777     Yathecal72   20    Male       67   \n",
       "778          778        Sisur91    7    Male       92   \n",
       "779          779      Ennrian78   24    Male       50   \n",
       "\n",
       "                                     Item Name  Price Age Group  \n",
       "0    Extraction, Quickblade Of Trembling Hands   3.53     17-20  \n",
       "1                            Frenzied Scimitar   1.56     37-40  \n",
       "2                                 Final Critic   4.88     21-24  \n",
       "3                                  Blindscythe   3.27     21-24  \n",
       "4                                         Fury   1.44     21-24  \n",
       "..                                         ...    ...       ...  \n",
       "775                                       Wolf   3.54     21-24  \n",
       "776                           Exiled Doomblade   1.63     21-24  \n",
       "777      Celeste, Incarnation of the Corrupted   3.46     17-20  \n",
       "778                               Final Critic   4.19       5-8  \n",
       "779                                       Dawn   4.60     21-24  \n",
       "\n",
       "[780 rows x 8 columns]"
      ]
     },
     "execution_count": 502,
     "metadata": {},
     "output_type": "execute_result"
    }
   ],
   "source": [
    "age_df = purchase_data\n",
    "age_bins = [0, 4, 8, 12, 16, 20, 24, 28, 32, 36, 40, 44, 48]\n",
    "bin_names = [\"0-4\",\"5-8\",'9-12','13-16','17-20','21-24','25-28','29-32','33-36','37-40','41-44','45-48']\n",
    "age_df[\"Age Group\"] = pd.DataFrame(pd.cut(purchase_data['Age'], age_bins, labels = bin_names))\n",
    "age_df"
   ]
  },
  {
   "cell_type": "code",
   "execution_count": 503,
   "metadata": {},
   "outputs": [
    {
     "data": {
      "text/plain": [
       "Age Group\n",
       "13-16     55\n",
       "17-20    126\n",
       "21-24    189\n",
       "25-28     67\n",
       "29-32     46\n",
       "33-36     31\n",
       "37-40     21\n",
       "41-44      6\n",
       "45-48      1\n",
       "5-8       13\n",
       "9-12      21\n",
       "Name: Total Count, dtype: int64"
      ]
     },
     "execution_count": 503,
     "metadata": {},
     "output_type": "execute_result"
    }
   ],
   "source": [
    "count_of_unique_users_by_age_group = age_df.groupby(\"Age Group\")[\"SN\"].value_counts().groupby(\"Age Group\").count()\n",
    "count_of_unique_users_by_age_group.name = \"Total Count\"\n",
    "count_of_unique_users_by_age_group\n"
   ]
  },
  {
   "cell_type": "code",
   "execution_count": 504,
   "metadata": {},
   "outputs": [
    {
     "data": {
      "text/plain": [
       "Age Group\n",
       "13-16    0.095486\n",
       "17-20    0.218750\n",
       "21-24    0.328125\n",
       "25-28    0.116319\n",
       "29-32    0.079861\n",
       "33-36    0.053819\n",
       "37-40    0.036458\n",
       "41-44    0.010417\n",
       "45-48    0.001736\n",
       "5-8      0.022569\n",
       "9-12     0.036458\n",
       "Name: Percentage, dtype: float64"
      ]
     },
     "execution_count": 504,
     "metadata": {},
     "output_type": "execute_result"
    }
   ],
   "source": [
    "sum_of_age_groups = count_of_unique_users_by_age_group.sum()\n",
    "percent_of_age_groups = count_of_unique_users_by_age_group / sum_of_age_groups\n",
    "percent_of_age_groups.name = \"Percentage\"\n",
    "percent_of_age_groups"
   ]
  },
  {
   "cell_type": "code",
   "execution_count": 505,
   "metadata": {},
   "outputs": [
    {
     "data": {
      "text/html": [
       "<style  type=\"text/css\" >\n",
       "</style><table id=\"T_ec5724f0_82e2_11ea_8e4a_38f9d36b63cc\" ><thead>    <tr>        <th class=\"blank level0\" ></th>        <th class=\"col_heading level0 col0\" >Total Count</th>        <th class=\"col_heading level0 col1\" >Percentage</th>    </tr>    <tr>        <th class=\"index_name level0\" >Age Group</th>        <th class=\"blank\" ></th>        <th class=\"blank\" ></th>    </tr></thead><tbody>\n",
       "                <tr>\n",
       "                        <th id=\"T_ec5724f0_82e2_11ea_8e4a_38f9d36b63cclevel0_row0\" class=\"row_heading level0 row0\" >13-16</th>\n",
       "                        <td id=\"T_ec5724f0_82e2_11ea_8e4a_38f9d36b63ccrow0_col0\" class=\"data row0 col0\" >55</td>\n",
       "                        <td id=\"T_ec5724f0_82e2_11ea_8e4a_38f9d36b63ccrow0_col1\" class=\"data row0 col1\" >9.55%</td>\n",
       "            </tr>\n",
       "            <tr>\n",
       "                        <th id=\"T_ec5724f0_82e2_11ea_8e4a_38f9d36b63cclevel0_row1\" class=\"row_heading level0 row1\" >17-20</th>\n",
       "                        <td id=\"T_ec5724f0_82e2_11ea_8e4a_38f9d36b63ccrow1_col0\" class=\"data row1 col0\" >126</td>\n",
       "                        <td id=\"T_ec5724f0_82e2_11ea_8e4a_38f9d36b63ccrow1_col1\" class=\"data row1 col1\" >21.88%</td>\n",
       "            </tr>\n",
       "            <tr>\n",
       "                        <th id=\"T_ec5724f0_82e2_11ea_8e4a_38f9d36b63cclevel0_row2\" class=\"row_heading level0 row2\" >21-24</th>\n",
       "                        <td id=\"T_ec5724f0_82e2_11ea_8e4a_38f9d36b63ccrow2_col0\" class=\"data row2 col0\" >189</td>\n",
       "                        <td id=\"T_ec5724f0_82e2_11ea_8e4a_38f9d36b63ccrow2_col1\" class=\"data row2 col1\" >32.81%</td>\n",
       "            </tr>\n",
       "            <tr>\n",
       "                        <th id=\"T_ec5724f0_82e2_11ea_8e4a_38f9d36b63cclevel0_row3\" class=\"row_heading level0 row3\" >25-28</th>\n",
       "                        <td id=\"T_ec5724f0_82e2_11ea_8e4a_38f9d36b63ccrow3_col0\" class=\"data row3 col0\" >67</td>\n",
       "                        <td id=\"T_ec5724f0_82e2_11ea_8e4a_38f9d36b63ccrow3_col1\" class=\"data row3 col1\" >11.63%</td>\n",
       "            </tr>\n",
       "            <tr>\n",
       "                        <th id=\"T_ec5724f0_82e2_11ea_8e4a_38f9d36b63cclevel0_row4\" class=\"row_heading level0 row4\" >29-32</th>\n",
       "                        <td id=\"T_ec5724f0_82e2_11ea_8e4a_38f9d36b63ccrow4_col0\" class=\"data row4 col0\" >46</td>\n",
       "                        <td id=\"T_ec5724f0_82e2_11ea_8e4a_38f9d36b63ccrow4_col1\" class=\"data row4 col1\" >7.99%</td>\n",
       "            </tr>\n",
       "            <tr>\n",
       "                        <th id=\"T_ec5724f0_82e2_11ea_8e4a_38f9d36b63cclevel0_row5\" class=\"row_heading level0 row5\" >33-36</th>\n",
       "                        <td id=\"T_ec5724f0_82e2_11ea_8e4a_38f9d36b63ccrow5_col0\" class=\"data row5 col0\" >31</td>\n",
       "                        <td id=\"T_ec5724f0_82e2_11ea_8e4a_38f9d36b63ccrow5_col1\" class=\"data row5 col1\" >5.38%</td>\n",
       "            </tr>\n",
       "            <tr>\n",
       "                        <th id=\"T_ec5724f0_82e2_11ea_8e4a_38f9d36b63cclevel0_row6\" class=\"row_heading level0 row6\" >37-40</th>\n",
       "                        <td id=\"T_ec5724f0_82e2_11ea_8e4a_38f9d36b63ccrow6_col0\" class=\"data row6 col0\" >21</td>\n",
       "                        <td id=\"T_ec5724f0_82e2_11ea_8e4a_38f9d36b63ccrow6_col1\" class=\"data row6 col1\" >3.65%</td>\n",
       "            </tr>\n",
       "            <tr>\n",
       "                        <th id=\"T_ec5724f0_82e2_11ea_8e4a_38f9d36b63cclevel0_row7\" class=\"row_heading level0 row7\" >41-44</th>\n",
       "                        <td id=\"T_ec5724f0_82e2_11ea_8e4a_38f9d36b63ccrow7_col0\" class=\"data row7 col0\" >6</td>\n",
       "                        <td id=\"T_ec5724f0_82e2_11ea_8e4a_38f9d36b63ccrow7_col1\" class=\"data row7 col1\" >1.04%</td>\n",
       "            </tr>\n",
       "            <tr>\n",
       "                        <th id=\"T_ec5724f0_82e2_11ea_8e4a_38f9d36b63cclevel0_row8\" class=\"row_heading level0 row8\" >45-48</th>\n",
       "                        <td id=\"T_ec5724f0_82e2_11ea_8e4a_38f9d36b63ccrow8_col0\" class=\"data row8 col0\" >1</td>\n",
       "                        <td id=\"T_ec5724f0_82e2_11ea_8e4a_38f9d36b63ccrow8_col1\" class=\"data row8 col1\" >0.17%</td>\n",
       "            </tr>\n",
       "            <tr>\n",
       "                        <th id=\"T_ec5724f0_82e2_11ea_8e4a_38f9d36b63cclevel0_row9\" class=\"row_heading level0 row9\" >5-8</th>\n",
       "                        <td id=\"T_ec5724f0_82e2_11ea_8e4a_38f9d36b63ccrow9_col0\" class=\"data row9 col0\" >13</td>\n",
       "                        <td id=\"T_ec5724f0_82e2_11ea_8e4a_38f9d36b63ccrow9_col1\" class=\"data row9 col1\" >2.26%</td>\n",
       "            </tr>\n",
       "            <tr>\n",
       "                        <th id=\"T_ec5724f0_82e2_11ea_8e4a_38f9d36b63cclevel0_row10\" class=\"row_heading level0 row10\" >9-12</th>\n",
       "                        <td id=\"T_ec5724f0_82e2_11ea_8e4a_38f9d36b63ccrow10_col0\" class=\"data row10 col0\" >21</td>\n",
       "                        <td id=\"T_ec5724f0_82e2_11ea_8e4a_38f9d36b63ccrow10_col1\" class=\"data row10 col1\" >3.65%</td>\n",
       "            </tr>\n",
       "    </tbody></table>"
      ],
      "text/plain": [
       "<pandas.io.formats.style.Styler at 0x117525a10>"
      ]
     },
     "execution_count": 505,
     "metadata": {},
     "output_type": "execute_result"
    }
   ],
   "source": [
    "age_demographics_df = pd.concat([count_of_unique_users_by_age_group, percent_of_age_groups], axis = 1)\n",
    "format_dict = {'Percentage':'{:.2%}'}\n",
    "age_demographics_formatted_df = age_demographics_df.style.format(format_dict)\n",
    "age_demographics_formatted_df"
   ]
  },
  {
   "cell_type": "markdown",
   "metadata": {},
   "source": [
    "## Purchasing Analysis (Age)"
   ]
  },
  {
   "cell_type": "markdown",
   "metadata": {},
   "source": [
    "* Bin the purchase_data data frame by age\n",
    "\n",
    "\n",
    "* Run basic calculations to obtain purchase count, avg. purchase price, avg. purchase total per person etc. in the table below\n",
    "\n",
    "\n",
    "* Create a summary data frame to hold the results\n",
    "\n",
    "\n",
    "* Optional: give the displayed data cleaner formatting\n",
    "\n",
    "\n",
    "* Display the summary data frame"
   ]
  },
  {
   "cell_type": "code",
   "execution_count": 508,
   "metadata": {},
   "outputs": [
    {
     "data": {
      "text/html": [
       "<div>\n",
       "<style scoped>\n",
       "    .dataframe tbody tr th:only-of-type {\n",
       "        vertical-align: middle;\n",
       "    }\n",
       "\n",
       "    .dataframe tbody tr th {\n",
       "        vertical-align: top;\n",
       "    }\n",
       "\n",
       "    .dataframe thead th {\n",
       "        text-align: right;\n",
       "    }\n",
       "</style>\n",
       "<table border=\"1\" class=\"dataframe\">\n",
       "  <thead>\n",
       "    <tr style=\"text-align: right;\">\n",
       "      <th></th>\n",
       "      <th>Purchase ID</th>\n",
       "      <th>SN</th>\n",
       "      <th>Age</th>\n",
       "      <th>Gender</th>\n",
       "      <th>Item ID</th>\n",
       "      <th>Item Name</th>\n",
       "      <th>Price</th>\n",
       "      <th>Age Group</th>\n",
       "    </tr>\n",
       "  </thead>\n",
       "  <tbody>\n",
       "    <tr>\n",
       "      <td>0</td>\n",
       "      <td>0</td>\n",
       "      <td>Lisim78</td>\n",
       "      <td>20</td>\n",
       "      <td>Male</td>\n",
       "      <td>108</td>\n",
       "      <td>Extraction, Quickblade Of Trembling Hands</td>\n",
       "      <td>3.53</td>\n",
       "      <td>17-20</td>\n",
       "    </tr>\n",
       "    <tr>\n",
       "      <td>1</td>\n",
       "      <td>1</td>\n",
       "      <td>Lisovynya38</td>\n",
       "      <td>40</td>\n",
       "      <td>Male</td>\n",
       "      <td>143</td>\n",
       "      <td>Frenzied Scimitar</td>\n",
       "      <td>1.56</td>\n",
       "      <td>37-40</td>\n",
       "    </tr>\n",
       "    <tr>\n",
       "      <td>2</td>\n",
       "      <td>2</td>\n",
       "      <td>Ithergue48</td>\n",
       "      <td>24</td>\n",
       "      <td>Male</td>\n",
       "      <td>92</td>\n",
       "      <td>Final Critic</td>\n",
       "      <td>4.88</td>\n",
       "      <td>21-24</td>\n",
       "    </tr>\n",
       "    <tr>\n",
       "      <td>3</td>\n",
       "      <td>3</td>\n",
       "      <td>Chamassasya86</td>\n",
       "      <td>24</td>\n",
       "      <td>Male</td>\n",
       "      <td>100</td>\n",
       "      <td>Blindscythe</td>\n",
       "      <td>3.27</td>\n",
       "      <td>21-24</td>\n",
       "    </tr>\n",
       "    <tr>\n",
       "      <td>4</td>\n",
       "      <td>4</td>\n",
       "      <td>Iskosia90</td>\n",
       "      <td>23</td>\n",
       "      <td>Male</td>\n",
       "      <td>131</td>\n",
       "      <td>Fury</td>\n",
       "      <td>1.44</td>\n",
       "      <td>21-24</td>\n",
       "    </tr>\n",
       "    <tr>\n",
       "      <td>...</td>\n",
       "      <td>...</td>\n",
       "      <td>...</td>\n",
       "      <td>...</td>\n",
       "      <td>...</td>\n",
       "      <td>...</td>\n",
       "      <td>...</td>\n",
       "      <td>...</td>\n",
       "      <td>...</td>\n",
       "    </tr>\n",
       "    <tr>\n",
       "      <td>775</td>\n",
       "      <td>775</td>\n",
       "      <td>Aethedru70</td>\n",
       "      <td>21</td>\n",
       "      <td>Female</td>\n",
       "      <td>60</td>\n",
       "      <td>Wolf</td>\n",
       "      <td>3.54</td>\n",
       "      <td>21-24</td>\n",
       "    </tr>\n",
       "    <tr>\n",
       "      <td>776</td>\n",
       "      <td>776</td>\n",
       "      <td>Iral74</td>\n",
       "      <td>21</td>\n",
       "      <td>Male</td>\n",
       "      <td>164</td>\n",
       "      <td>Exiled Doomblade</td>\n",
       "      <td>1.63</td>\n",
       "      <td>21-24</td>\n",
       "    </tr>\n",
       "    <tr>\n",
       "      <td>777</td>\n",
       "      <td>777</td>\n",
       "      <td>Yathecal72</td>\n",
       "      <td>20</td>\n",
       "      <td>Male</td>\n",
       "      <td>67</td>\n",
       "      <td>Celeste, Incarnation of the Corrupted</td>\n",
       "      <td>3.46</td>\n",
       "      <td>17-20</td>\n",
       "    </tr>\n",
       "    <tr>\n",
       "      <td>778</td>\n",
       "      <td>778</td>\n",
       "      <td>Sisur91</td>\n",
       "      <td>7</td>\n",
       "      <td>Male</td>\n",
       "      <td>92</td>\n",
       "      <td>Final Critic</td>\n",
       "      <td>4.19</td>\n",
       "      <td>5-8</td>\n",
       "    </tr>\n",
       "    <tr>\n",
       "      <td>779</td>\n",
       "      <td>779</td>\n",
       "      <td>Ennrian78</td>\n",
       "      <td>24</td>\n",
       "      <td>Male</td>\n",
       "      <td>50</td>\n",
       "      <td>Dawn</td>\n",
       "      <td>4.60</td>\n",
       "      <td>21-24</td>\n",
       "    </tr>\n",
       "  </tbody>\n",
       "</table>\n",
       "<p>780 rows × 8 columns</p>\n",
       "</div>"
      ],
      "text/plain": [
       "     Purchase ID             SN  Age  Gender  Item ID  \\\n",
       "0              0        Lisim78   20    Male      108   \n",
       "1              1    Lisovynya38   40    Male      143   \n",
       "2              2     Ithergue48   24    Male       92   \n",
       "3              3  Chamassasya86   24    Male      100   \n",
       "4              4      Iskosia90   23    Male      131   \n",
       "..           ...            ...  ...     ...      ...   \n",
       "775          775     Aethedru70   21  Female       60   \n",
       "776          776         Iral74   21    Male      164   \n",
       "777          777     Yathecal72   20    Male       67   \n",
       "778          778        Sisur91    7    Male       92   \n",
       "779          779      Ennrian78   24    Male       50   \n",
       "\n",
       "                                     Item Name  Price Age Group  \n",
       "0    Extraction, Quickblade Of Trembling Hands   3.53     17-20  \n",
       "1                            Frenzied Scimitar   1.56     37-40  \n",
       "2                                 Final Critic   4.88     21-24  \n",
       "3                                  Blindscythe   3.27     21-24  \n",
       "4                                         Fury   1.44     21-24  \n",
       "..                                         ...    ...       ...  \n",
       "775                                       Wolf   3.54     21-24  \n",
       "776                           Exiled Doomblade   1.63     21-24  \n",
       "777      Celeste, Incarnation of the Corrupted   3.46     17-20  \n",
       "778                               Final Critic   4.19       5-8  \n",
       "779                                       Dawn   4.60     21-24  \n",
       "\n",
       "[780 rows x 8 columns]"
      ]
     },
     "execution_count": 508,
     "metadata": {},
     "output_type": "execute_result"
    }
   ],
   "source": [
    "age_df = purchase_data\n",
    "age_bins = [0, 4, 8, 12, 16, 20, 24, 28, 32, 36, 40, 44, 48]\n",
    "bin_names = [\"0-4\",\"5-8\",'9-12','13-16','17-20','21-24','25-28','29-32','33-36','37-40','41-44','45-48']\n",
    "age_df[\"Age Group\"] = pd.DataFrame(pd.cut(purchase_data['Age'], age_bins, labels = bin_names))\n",
    "age_df"
   ]
  },
  {
   "cell_type": "code",
   "execution_count": 509,
   "metadata": {},
   "outputs": [
    {
     "data": {
      "text/plain": [
       "Age Group\n",
       "13-16     71\n",
       "17-20    170\n",
       "21-24    266\n",
       "25-28     88\n",
       "29-32     63\n",
       "33-36     42\n",
       "37-40     28\n",
       "41-44      6\n",
       "45-48      1\n",
       "5-8       17\n",
       "9-12      28\n",
       "Name: Purchase Count, dtype: int64"
      ]
     },
     "execution_count": 509,
     "metadata": {},
     "output_type": "execute_result"
    }
   ],
   "source": [
    "agegroup_groupby = age_df.groupby(\"Age Group\")\n",
    "num_purchases = agegroup_groupby[\"Purchase ID\"].count()\n",
    "num_purchases.name = \"Purchase Count\"\n",
    "num_purchases"
   ]
  },
  {
   "cell_type": "code",
   "execution_count": 510,
   "metadata": {},
   "outputs": [
    {
     "data": {
      "text/plain": [
       "Age Group\n",
       "13-16    2.993944\n",
       "17-20    3.123529\n",
       "21-24    3.006541\n",
       "25-28    2.929205\n",
       "29-32    3.052222\n",
       "33-36    2.895952\n",
       "37-40    3.560357\n",
       "41-44    3.305000\n",
       "45-48    1.700000\n",
       "5-8      3.462353\n",
       "9-12     3.024643\n",
       "Name: Average Purchase Price, dtype: float64"
      ]
     },
     "execution_count": 510,
     "metadata": {},
     "output_type": "execute_result"
    }
   ],
   "source": [
    "avg_purchase_price = agegroup_groupby[\"Price\"].sum() / num_purchases\n",
    "avg_purchase_price.name = \"Average Purchase Price\"\n",
    "avg_purchase_price"
   ]
  },
  {
   "cell_type": "code",
   "execution_count": 511,
   "metadata": {},
   "outputs": [
    {
     "data": {
      "text/plain": [
       "Age Group\n",
       "13-16    212.57\n",
       "17-20    531.00\n",
       "21-24    799.74\n",
       "25-28    257.77\n",
       "29-32    192.29\n",
       "33-36    121.63\n",
       "37-40     99.69\n",
       "41-44     19.83\n",
       "45-48      1.70\n",
       "5-8       58.86\n",
       "9-12      84.69\n",
       "Name: Total Purchase Value, dtype: float64"
      ]
     },
     "execution_count": 511,
     "metadata": {},
     "output_type": "execute_result"
    }
   ],
   "source": [
    "total_purchase_value = agegroup_groupby[\"Price\"].sum()\n",
    "total_purchase_value.name = 'Total Purchase Value'\n",
    "total_purchase_value"
   ]
  },
  {
   "cell_type": "code",
   "execution_count": 512,
   "metadata": {},
   "outputs": [
    {
     "data": {
      "text/plain": [
       "Age Group\n",
       "13-16    3.864909\n",
       "17-20    4.214286\n",
       "21-24    4.231429\n",
       "25-28    3.847313\n",
       "29-32    4.180217\n",
       "33-36    3.923548\n",
       "37-40    4.747143\n",
       "41-44    3.305000\n",
       "45-48    1.700000\n",
       "5-8      4.527692\n",
       "9-12     4.032857\n",
       "Name: Avg Total Purchase per Person, dtype: float64"
      ]
     },
     "execution_count": 512,
     "metadata": {},
     "output_type": "execute_result"
    }
   ],
   "source": [
    "avg_total_purchase_per_person = total_purchase_value / count_of_unique_users_by_age_group\n",
    "avg_total_purchase_per_person.name = \"Avg Total Purchase per Person\"\n",
    "avg_total_purchase_per_person"
   ]
  },
  {
   "cell_type": "code",
   "execution_count": 513,
   "metadata": {},
   "outputs": [
    {
     "data": {
      "text/html": [
       "<style  type=\"text/css\" >\n",
       "</style><table id=\"T_067c50f8_82e3_11ea_8e4a_38f9d36b63cc\" ><thead>    <tr>        <th class=\"blank level0\" ></th>        <th class=\"col_heading level0 col0\" >Purchase Count</th>        <th class=\"col_heading level0 col1\" >Average Purchase Price</th>        <th class=\"col_heading level0 col2\" >Total Purchase Value</th>        <th class=\"col_heading level0 col3\" >Avg Total Purchase per Person</th>    </tr>    <tr>        <th class=\"index_name level0\" >Age Group</th>        <th class=\"blank\" ></th>        <th class=\"blank\" ></th>        <th class=\"blank\" ></th>        <th class=\"blank\" ></th>    </tr></thead><tbody>\n",
       "                <tr>\n",
       "                        <th id=\"T_067c50f8_82e3_11ea_8e4a_38f9d36b63cclevel0_row0\" class=\"row_heading level0 row0\" >13-16</th>\n",
       "                        <td id=\"T_067c50f8_82e3_11ea_8e4a_38f9d36b63ccrow0_col0\" class=\"data row0 col0\" >71</td>\n",
       "                        <td id=\"T_067c50f8_82e3_11ea_8e4a_38f9d36b63ccrow0_col1\" class=\"data row0 col1\" >$2.99</td>\n",
       "                        <td id=\"T_067c50f8_82e3_11ea_8e4a_38f9d36b63ccrow0_col2\" class=\"data row0 col2\" >$212.57</td>\n",
       "                        <td id=\"T_067c50f8_82e3_11ea_8e4a_38f9d36b63ccrow0_col3\" class=\"data row0 col3\" >$3.86</td>\n",
       "            </tr>\n",
       "            <tr>\n",
       "                        <th id=\"T_067c50f8_82e3_11ea_8e4a_38f9d36b63cclevel0_row1\" class=\"row_heading level0 row1\" >17-20</th>\n",
       "                        <td id=\"T_067c50f8_82e3_11ea_8e4a_38f9d36b63ccrow1_col0\" class=\"data row1 col0\" >170</td>\n",
       "                        <td id=\"T_067c50f8_82e3_11ea_8e4a_38f9d36b63ccrow1_col1\" class=\"data row1 col1\" >$3.12</td>\n",
       "                        <td id=\"T_067c50f8_82e3_11ea_8e4a_38f9d36b63ccrow1_col2\" class=\"data row1 col2\" >$531.00</td>\n",
       "                        <td id=\"T_067c50f8_82e3_11ea_8e4a_38f9d36b63ccrow1_col3\" class=\"data row1 col3\" >$4.21</td>\n",
       "            </tr>\n",
       "            <tr>\n",
       "                        <th id=\"T_067c50f8_82e3_11ea_8e4a_38f9d36b63cclevel0_row2\" class=\"row_heading level0 row2\" >21-24</th>\n",
       "                        <td id=\"T_067c50f8_82e3_11ea_8e4a_38f9d36b63ccrow2_col0\" class=\"data row2 col0\" >266</td>\n",
       "                        <td id=\"T_067c50f8_82e3_11ea_8e4a_38f9d36b63ccrow2_col1\" class=\"data row2 col1\" >$3.01</td>\n",
       "                        <td id=\"T_067c50f8_82e3_11ea_8e4a_38f9d36b63ccrow2_col2\" class=\"data row2 col2\" >$799.74</td>\n",
       "                        <td id=\"T_067c50f8_82e3_11ea_8e4a_38f9d36b63ccrow2_col3\" class=\"data row2 col3\" >$4.23</td>\n",
       "            </tr>\n",
       "            <tr>\n",
       "                        <th id=\"T_067c50f8_82e3_11ea_8e4a_38f9d36b63cclevel0_row3\" class=\"row_heading level0 row3\" >25-28</th>\n",
       "                        <td id=\"T_067c50f8_82e3_11ea_8e4a_38f9d36b63ccrow3_col0\" class=\"data row3 col0\" >88</td>\n",
       "                        <td id=\"T_067c50f8_82e3_11ea_8e4a_38f9d36b63ccrow3_col1\" class=\"data row3 col1\" >$2.93</td>\n",
       "                        <td id=\"T_067c50f8_82e3_11ea_8e4a_38f9d36b63ccrow3_col2\" class=\"data row3 col2\" >$257.77</td>\n",
       "                        <td id=\"T_067c50f8_82e3_11ea_8e4a_38f9d36b63ccrow3_col3\" class=\"data row3 col3\" >$3.85</td>\n",
       "            </tr>\n",
       "            <tr>\n",
       "                        <th id=\"T_067c50f8_82e3_11ea_8e4a_38f9d36b63cclevel0_row4\" class=\"row_heading level0 row4\" >29-32</th>\n",
       "                        <td id=\"T_067c50f8_82e3_11ea_8e4a_38f9d36b63ccrow4_col0\" class=\"data row4 col0\" >63</td>\n",
       "                        <td id=\"T_067c50f8_82e3_11ea_8e4a_38f9d36b63ccrow4_col1\" class=\"data row4 col1\" >$3.05</td>\n",
       "                        <td id=\"T_067c50f8_82e3_11ea_8e4a_38f9d36b63ccrow4_col2\" class=\"data row4 col2\" >$192.29</td>\n",
       "                        <td id=\"T_067c50f8_82e3_11ea_8e4a_38f9d36b63ccrow4_col3\" class=\"data row4 col3\" >$4.18</td>\n",
       "            </tr>\n",
       "            <tr>\n",
       "                        <th id=\"T_067c50f8_82e3_11ea_8e4a_38f9d36b63cclevel0_row5\" class=\"row_heading level0 row5\" >33-36</th>\n",
       "                        <td id=\"T_067c50f8_82e3_11ea_8e4a_38f9d36b63ccrow5_col0\" class=\"data row5 col0\" >42</td>\n",
       "                        <td id=\"T_067c50f8_82e3_11ea_8e4a_38f9d36b63ccrow5_col1\" class=\"data row5 col1\" >$2.90</td>\n",
       "                        <td id=\"T_067c50f8_82e3_11ea_8e4a_38f9d36b63ccrow5_col2\" class=\"data row5 col2\" >$121.63</td>\n",
       "                        <td id=\"T_067c50f8_82e3_11ea_8e4a_38f9d36b63ccrow5_col3\" class=\"data row5 col3\" >$3.92</td>\n",
       "            </tr>\n",
       "            <tr>\n",
       "                        <th id=\"T_067c50f8_82e3_11ea_8e4a_38f9d36b63cclevel0_row6\" class=\"row_heading level0 row6\" >37-40</th>\n",
       "                        <td id=\"T_067c50f8_82e3_11ea_8e4a_38f9d36b63ccrow6_col0\" class=\"data row6 col0\" >28</td>\n",
       "                        <td id=\"T_067c50f8_82e3_11ea_8e4a_38f9d36b63ccrow6_col1\" class=\"data row6 col1\" >$3.56</td>\n",
       "                        <td id=\"T_067c50f8_82e3_11ea_8e4a_38f9d36b63ccrow6_col2\" class=\"data row6 col2\" >$99.69</td>\n",
       "                        <td id=\"T_067c50f8_82e3_11ea_8e4a_38f9d36b63ccrow6_col3\" class=\"data row6 col3\" >$4.75</td>\n",
       "            </tr>\n",
       "            <tr>\n",
       "                        <th id=\"T_067c50f8_82e3_11ea_8e4a_38f9d36b63cclevel0_row7\" class=\"row_heading level0 row7\" >41-44</th>\n",
       "                        <td id=\"T_067c50f8_82e3_11ea_8e4a_38f9d36b63ccrow7_col0\" class=\"data row7 col0\" >6</td>\n",
       "                        <td id=\"T_067c50f8_82e3_11ea_8e4a_38f9d36b63ccrow7_col1\" class=\"data row7 col1\" >$3.30</td>\n",
       "                        <td id=\"T_067c50f8_82e3_11ea_8e4a_38f9d36b63ccrow7_col2\" class=\"data row7 col2\" >$19.83</td>\n",
       "                        <td id=\"T_067c50f8_82e3_11ea_8e4a_38f9d36b63ccrow7_col3\" class=\"data row7 col3\" >$3.30</td>\n",
       "            </tr>\n",
       "            <tr>\n",
       "                        <th id=\"T_067c50f8_82e3_11ea_8e4a_38f9d36b63cclevel0_row8\" class=\"row_heading level0 row8\" >45-48</th>\n",
       "                        <td id=\"T_067c50f8_82e3_11ea_8e4a_38f9d36b63ccrow8_col0\" class=\"data row8 col0\" >1</td>\n",
       "                        <td id=\"T_067c50f8_82e3_11ea_8e4a_38f9d36b63ccrow8_col1\" class=\"data row8 col1\" >$1.70</td>\n",
       "                        <td id=\"T_067c50f8_82e3_11ea_8e4a_38f9d36b63ccrow8_col2\" class=\"data row8 col2\" >$1.70</td>\n",
       "                        <td id=\"T_067c50f8_82e3_11ea_8e4a_38f9d36b63ccrow8_col3\" class=\"data row8 col3\" >$1.70</td>\n",
       "            </tr>\n",
       "            <tr>\n",
       "                        <th id=\"T_067c50f8_82e3_11ea_8e4a_38f9d36b63cclevel0_row9\" class=\"row_heading level0 row9\" >5-8</th>\n",
       "                        <td id=\"T_067c50f8_82e3_11ea_8e4a_38f9d36b63ccrow9_col0\" class=\"data row9 col0\" >17</td>\n",
       "                        <td id=\"T_067c50f8_82e3_11ea_8e4a_38f9d36b63ccrow9_col1\" class=\"data row9 col1\" >$3.46</td>\n",
       "                        <td id=\"T_067c50f8_82e3_11ea_8e4a_38f9d36b63ccrow9_col2\" class=\"data row9 col2\" >$58.86</td>\n",
       "                        <td id=\"T_067c50f8_82e3_11ea_8e4a_38f9d36b63ccrow9_col3\" class=\"data row9 col3\" >$4.53</td>\n",
       "            </tr>\n",
       "            <tr>\n",
       "                        <th id=\"T_067c50f8_82e3_11ea_8e4a_38f9d36b63cclevel0_row10\" class=\"row_heading level0 row10\" >9-12</th>\n",
       "                        <td id=\"T_067c50f8_82e3_11ea_8e4a_38f9d36b63ccrow10_col0\" class=\"data row10 col0\" >28</td>\n",
       "                        <td id=\"T_067c50f8_82e3_11ea_8e4a_38f9d36b63ccrow10_col1\" class=\"data row10 col1\" >$3.02</td>\n",
       "                        <td id=\"T_067c50f8_82e3_11ea_8e4a_38f9d36b63ccrow10_col2\" class=\"data row10 col2\" >$84.69</td>\n",
       "                        <td id=\"T_067c50f8_82e3_11ea_8e4a_38f9d36b63ccrow10_col3\" class=\"data row10 col3\" >$4.03</td>\n",
       "            </tr>\n",
       "    </tbody></table>"
      ],
      "text/plain": [
       "<pandas.io.formats.style.Styler at 0x1174f8750>"
      ]
     },
     "execution_count": 513,
     "metadata": {},
     "output_type": "execute_result"
    }
   ],
   "source": [
    "age_purchase_analysis_df = pd.concat([num_purchases, \n",
    "                                      avg_purchase_price, \n",
    "                                      total_purchase_value, \n",
    "                                      avg_total_purchase_per_person], \n",
    "                                     axis = 1)\n",
    "format_dict = {'Average Purchase Price':'${0:,.2f}', \n",
    "               'Total Purchase Value': '${0:,.2f}', \n",
    "               'Avg Total Purchase per Person': '${0:,.2f}',\n",
    "              }\n",
    "age_purchase_analysis_formatted_df = age_purchase_analysis_df.style.format(format_dict)\n",
    "age_purchase_analysis_formatted_df"
   ]
  },
  {
   "cell_type": "markdown",
   "metadata": {},
   "source": [
    "## Top Spenders"
   ]
  },
  {
   "cell_type": "markdown",
   "metadata": {},
   "source": [
    "* Run basic calculations to obtain the results in the table below\n",
    "\n",
    "\n",
    "* Create a summary data frame to hold the results\n",
    "\n",
    "\n",
    "* Sort the total purchase value column in descending order\n",
    "\n",
    "\n",
    "* Optional: give the displayed data cleaner formatting\n",
    "\n",
    "\n",
    "* Display a preview of the summary data frame\n",
    "\n"
   ]
  },
  {
   "cell_type": "code",
   "execution_count": null,
   "metadata": {},
   "outputs": [],
   "source": [
    "unique_users_df = purchase_data."
   ]
  },
  {
   "cell_type": "code",
   "execution_count": 199,
   "metadata": {},
   "outputs": [
    {
     "data": {
      "text/plain": [
       "SN\n",
       "Adairialis76     2.28\n",
       "Adastirin33      4.48\n",
       "Aeda94           4.91\n",
       "Aela59           4.32\n",
       "Aelaria33        1.79\n",
       "                 ... \n",
       "Yathecal82       6.22\n",
       "Yathedeu43       6.02\n",
       "Yoishirrala98    4.58\n",
       "Zhisrisu83       7.89\n",
       "Zontibe81        8.03\n",
       "Name: Price, Length: 576, dtype: float64"
      ]
     },
     "execution_count": 199,
     "metadata": {},
     "output_type": "execute_result"
    }
   ],
   "source": [
    "total_purchase_value = purchase_data.groupby(\"SN\")[\"Price\"].sum()\n",
    "total_purchase_value"
   ]
  },
  {
   "cell_type": "code",
   "execution_count": 200,
   "metadata": {},
   "outputs": [
    {
     "data": {
      "text/plain": [
       "SN\n",
       "Adairialis76     1\n",
       "Adastirin33      1\n",
       "Aeda94           1\n",
       "Aela59           1\n",
       "Aelaria33        1\n",
       "                ..\n",
       "Yathecal82       3\n",
       "Yathedeu43       2\n",
       "Yoishirrala98    1\n",
       "Zhisrisu83       2\n",
       "Zontibe81        3\n",
       "Name: SN, Length: 576, dtype: int64"
      ]
     },
     "execution_count": 200,
     "metadata": {},
     "output_type": "execute_result"
    }
   ],
   "source": [
    "purchase_counts = purchase_data.groupby(\"SN\")[\"SN\"].count()\n",
    "purchase_counts"
   ]
  },
  {
   "cell_type": "code",
   "execution_count": 201,
   "metadata": {},
   "outputs": [
    {
     "data": {
      "text/plain": [
       "SN\n",
       "Adairialis76     2.280000\n",
       "Adastirin33      4.480000\n",
       "Aeda94           4.910000\n",
       "Aela59           4.320000\n",
       "Aelaria33        1.790000\n",
       "                   ...   \n",
       "Yathecal82       2.073333\n",
       "Yathedeu43       3.010000\n",
       "Yoishirrala98    4.580000\n",
       "Zhisrisu83       3.945000\n",
       "Zontibe81        2.676667\n",
       "Length: 576, dtype: float64"
      ]
     },
     "execution_count": 201,
     "metadata": {},
     "output_type": "execute_result"
    }
   ],
   "source": [
    "average_purchase_price = total_purchase_value / purchase_counts\n",
    "average_purchase_price"
   ]
  },
  {
   "cell_type": "code",
   "execution_count": 212,
   "metadata": {},
   "outputs": [
    {
     "data": {
      "text/html": [
       "<div>\n",
       "<style scoped>\n",
       "    .dataframe tbody tr th:only-of-type {\n",
       "        vertical-align: middle;\n",
       "    }\n",
       "\n",
       "    .dataframe tbody tr th {\n",
       "        vertical-align: top;\n",
       "    }\n",
       "\n",
       "    .dataframe thead th {\n",
       "        text-align: right;\n",
       "    }\n",
       "</style>\n",
       "<table border=\"1\" class=\"dataframe\">\n",
       "  <thead>\n",
       "    <tr style=\"text-align: right;\">\n",
       "      <th></th>\n",
       "      <th>Total Purchase Value</th>\n",
       "      <th>Purchase Count</th>\n",
       "      <th>Average Purchase Price</th>\n",
       "    </tr>\n",
       "    <tr>\n",
       "      <th>SN</th>\n",
       "      <th></th>\n",
       "      <th></th>\n",
       "      <th></th>\n",
       "    </tr>\n",
       "  </thead>\n",
       "  <tbody>\n",
       "    <tr>\n",
       "      <td>Lisosia93</td>\n",
       "      <td>18.96</td>\n",
       "      <td>5</td>\n",
       "      <td>3.792000</td>\n",
       "    </tr>\n",
       "    <tr>\n",
       "      <td>Idastidru52</td>\n",
       "      <td>15.45</td>\n",
       "      <td>4</td>\n",
       "      <td>3.862500</td>\n",
       "    </tr>\n",
       "    <tr>\n",
       "      <td>Chamjask73</td>\n",
       "      <td>13.83</td>\n",
       "      <td>3</td>\n",
       "      <td>4.610000</td>\n",
       "    </tr>\n",
       "    <tr>\n",
       "      <td>Iral74</td>\n",
       "      <td>13.62</td>\n",
       "      <td>4</td>\n",
       "      <td>3.405000</td>\n",
       "    </tr>\n",
       "    <tr>\n",
       "      <td>Iskadarya95</td>\n",
       "      <td>13.10</td>\n",
       "      <td>3</td>\n",
       "      <td>4.366667</td>\n",
       "    </tr>\n",
       "    <tr>\n",
       "      <td>...</td>\n",
       "      <td>...</td>\n",
       "      <td>...</td>\n",
       "      <td>...</td>\n",
       "    </tr>\n",
       "    <tr>\n",
       "      <td>Ililsasya43</td>\n",
       "      <td>1.02</td>\n",
       "      <td>1</td>\n",
       "      <td>1.020000</td>\n",
       "    </tr>\n",
       "    <tr>\n",
       "      <td>Irilis75</td>\n",
       "      <td>1.02</td>\n",
       "      <td>1</td>\n",
       "      <td>1.020000</td>\n",
       "    </tr>\n",
       "    <tr>\n",
       "      <td>Aidai61</td>\n",
       "      <td>1.01</td>\n",
       "      <td>1</td>\n",
       "      <td>1.010000</td>\n",
       "    </tr>\n",
       "    <tr>\n",
       "      <td>Chanirra79</td>\n",
       "      <td>1.01</td>\n",
       "      <td>1</td>\n",
       "      <td>1.010000</td>\n",
       "    </tr>\n",
       "    <tr>\n",
       "      <td>Alo38</td>\n",
       "      <td>1.00</td>\n",
       "      <td>1</td>\n",
       "      <td>1.000000</td>\n",
       "    </tr>\n",
       "  </tbody>\n",
       "</table>\n",
       "<p>576 rows × 3 columns</p>\n",
       "</div>"
      ],
      "text/plain": [
       "             Total Purchase Value  Purchase Count  Average Purchase Price\n",
       "SN                                                                       \n",
       "Lisosia93                   18.96               5                3.792000\n",
       "Idastidru52                 15.45               4                3.862500\n",
       "Chamjask73                  13.83               3                4.610000\n",
       "Iral74                      13.62               4                3.405000\n",
       "Iskadarya95                 13.10               3                4.366667\n",
       "...                           ...             ...                     ...\n",
       "Ililsasya43                  1.02               1                1.020000\n",
       "Irilis75                     1.02               1                1.020000\n",
       "Aidai61                      1.01               1                1.010000\n",
       "Chanirra79                   1.01               1                1.010000\n",
       "Alo38                        1.00               1                1.000000\n",
       "\n",
       "[576 rows x 3 columns]"
      ]
     },
     "execution_count": 212,
     "metadata": {},
     "output_type": "execute_result"
    }
   ],
   "source": [
    "top_spenders_df = pd.concat([total_purchase_value, \n",
    "                             purchase_counts, \n",
    "                             average_purchase_price ], \n",
    "                            axis = 1, \n",
    "                            keys = [\"Total Purchase Value\",\n",
    "                                     'Purchase Count',\n",
    "                                    \"Average Purchase Price\",\n",
    "                                    ]\n",
    "                           )\n",
    "top_spenders_df = top_spenders_df.sort_values(\"Total Purchase Value\", ascending = False)\n",
    "top_spenders_df"
   ]
  },
  {
   "cell_type": "code",
   "execution_count": 518,
   "metadata": {},
   "outputs": [
    {
     "data": {
      "text/html": [
       "<div>\n",
       "<style scoped>\n",
       "    .dataframe tbody tr th:only-of-type {\n",
       "        vertical-align: middle;\n",
       "    }\n",
       "\n",
       "    .dataframe tbody tr th {\n",
       "        vertical-align: top;\n",
       "    }\n",
       "\n",
       "    .dataframe thead th {\n",
       "        text-align: right;\n",
       "    }\n",
       "</style>\n",
       "<table border=\"1\" class=\"dataframe\">\n",
       "  <thead>\n",
       "    <tr style=\"text-align: right;\">\n",
       "      <th></th>\n",
       "      <th>Total Purchase Value</th>\n",
       "      <th>Purchase Count</th>\n",
       "      <th>Average Purchase Price</th>\n",
       "    </tr>\n",
       "  </thead>\n",
       "  <tbody>\n",
       "    <tr>\n",
       "      <td>count</td>\n",
       "      <td>576.000000</td>\n",
       "      <td>576.000000</td>\n",
       "      <td>576.000000</td>\n",
       "    </tr>\n",
       "    <tr>\n",
       "      <td>mean</td>\n",
       "      <td>4.131545</td>\n",
       "      <td>1.354167</td>\n",
       "      <td>3.046047</td>\n",
       "    </tr>\n",
       "    <tr>\n",
       "      <td>std</td>\n",
       "      <td>2.404705</td>\n",
       "      <td>0.626585</td>\n",
       "      <td>1.069521</td>\n",
       "    </tr>\n",
       "    <tr>\n",
       "      <td>min</td>\n",
       "      <td>1.000000</td>\n",
       "      <td>1.000000</td>\n",
       "      <td>1.000000</td>\n",
       "    </tr>\n",
       "    <tr>\n",
       "      <td>25%</td>\n",
       "      <td>2.450000</td>\n",
       "      <td>1.000000</td>\n",
       "      <td>2.152500</td>\n",
       "    </tr>\n",
       "    <tr>\n",
       "      <td>50%</td>\n",
       "      <td>3.720000</td>\n",
       "      <td>1.000000</td>\n",
       "      <td>3.090000</td>\n",
       "    </tr>\n",
       "    <tr>\n",
       "      <td>75%</td>\n",
       "      <td>4.902500</td>\n",
       "      <td>2.000000</td>\n",
       "      <td>3.864375</td>\n",
       "    </tr>\n",
       "    <tr>\n",
       "      <td>max</td>\n",
       "      <td>18.960000</td>\n",
       "      <td>5.000000</td>\n",
       "      <td>4.990000</td>\n",
       "    </tr>\n",
       "  </tbody>\n",
       "</table>\n",
       "</div>"
      ],
      "text/plain": [
       "       Total Purchase Value  Purchase Count  Average Purchase Price\n",
       "count            576.000000      576.000000              576.000000\n",
       "mean               4.131545        1.354167                3.046047\n",
       "std                2.404705        0.626585                1.069521\n",
       "min                1.000000        1.000000                1.000000\n",
       "25%                2.450000        1.000000                2.152500\n",
       "50%                3.720000        1.000000                3.090000\n",
       "75%                4.902500        2.000000                3.864375\n",
       "max               18.960000        5.000000                4.990000"
      ]
     },
     "execution_count": 518,
     "metadata": {},
     "output_type": "execute_result"
    }
   ],
   "source": [
    "top_spenders_df.describe()"
   ]
  },
  {
   "cell_type": "code",
   "execution_count": 213,
   "metadata": {},
   "outputs": [
    {
     "data": {
      "text/html": [
       "<style  type=\"text/css\" >\n",
       "</style><table id=\"T_423ddf7e_82d1_11ea_8e4a_38f9d36b63cc\" ><thead>    <tr>        <th class=\"blank level0\" ></th>        <th class=\"col_heading level0 col0\" >Total Purchase Value</th>        <th class=\"col_heading level0 col1\" >Purchase Count</th>        <th class=\"col_heading level0 col2\" >Average Purchase Price</th>    </tr>    <tr>        <th class=\"index_name level0\" >SN</th>        <th class=\"blank\" ></th>        <th class=\"blank\" ></th>        <th class=\"blank\" ></th>    </tr></thead><tbody>\n",
       "                <tr>\n",
       "                        <th id=\"T_423ddf7e_82d1_11ea_8e4a_38f9d36b63cclevel0_row0\" class=\"row_heading level0 row0\" >Lisosia93</th>\n",
       "                        <td id=\"T_423ddf7e_82d1_11ea_8e4a_38f9d36b63ccrow0_col0\" class=\"data row0 col0\" >$18.96</td>\n",
       "                        <td id=\"T_423ddf7e_82d1_11ea_8e4a_38f9d36b63ccrow0_col1\" class=\"data row0 col1\" >5</td>\n",
       "                        <td id=\"T_423ddf7e_82d1_11ea_8e4a_38f9d36b63ccrow0_col2\" class=\"data row0 col2\" >$3.79</td>\n",
       "            </tr>\n",
       "            <tr>\n",
       "                        <th id=\"T_423ddf7e_82d1_11ea_8e4a_38f9d36b63cclevel0_row1\" class=\"row_heading level0 row1\" >Idastidru52</th>\n",
       "                        <td id=\"T_423ddf7e_82d1_11ea_8e4a_38f9d36b63ccrow1_col0\" class=\"data row1 col0\" >$15.45</td>\n",
       "                        <td id=\"T_423ddf7e_82d1_11ea_8e4a_38f9d36b63ccrow1_col1\" class=\"data row1 col1\" >4</td>\n",
       "                        <td id=\"T_423ddf7e_82d1_11ea_8e4a_38f9d36b63ccrow1_col2\" class=\"data row1 col2\" >$3.86</td>\n",
       "            </tr>\n",
       "            <tr>\n",
       "                        <th id=\"T_423ddf7e_82d1_11ea_8e4a_38f9d36b63cclevel0_row2\" class=\"row_heading level0 row2\" >Chamjask73</th>\n",
       "                        <td id=\"T_423ddf7e_82d1_11ea_8e4a_38f9d36b63ccrow2_col0\" class=\"data row2 col0\" >$13.83</td>\n",
       "                        <td id=\"T_423ddf7e_82d1_11ea_8e4a_38f9d36b63ccrow2_col1\" class=\"data row2 col1\" >3</td>\n",
       "                        <td id=\"T_423ddf7e_82d1_11ea_8e4a_38f9d36b63ccrow2_col2\" class=\"data row2 col2\" >$4.61</td>\n",
       "            </tr>\n",
       "            <tr>\n",
       "                        <th id=\"T_423ddf7e_82d1_11ea_8e4a_38f9d36b63cclevel0_row3\" class=\"row_heading level0 row3\" >Iral74</th>\n",
       "                        <td id=\"T_423ddf7e_82d1_11ea_8e4a_38f9d36b63ccrow3_col0\" class=\"data row3 col0\" >$13.62</td>\n",
       "                        <td id=\"T_423ddf7e_82d1_11ea_8e4a_38f9d36b63ccrow3_col1\" class=\"data row3 col1\" >4</td>\n",
       "                        <td id=\"T_423ddf7e_82d1_11ea_8e4a_38f9d36b63ccrow3_col2\" class=\"data row3 col2\" >$3.40</td>\n",
       "            </tr>\n",
       "            <tr>\n",
       "                        <th id=\"T_423ddf7e_82d1_11ea_8e4a_38f9d36b63cclevel0_row4\" class=\"row_heading level0 row4\" >Iskadarya95</th>\n",
       "                        <td id=\"T_423ddf7e_82d1_11ea_8e4a_38f9d36b63ccrow4_col0\" class=\"data row4 col0\" >$13.10</td>\n",
       "                        <td id=\"T_423ddf7e_82d1_11ea_8e4a_38f9d36b63ccrow4_col1\" class=\"data row4 col1\" >3</td>\n",
       "                        <td id=\"T_423ddf7e_82d1_11ea_8e4a_38f9d36b63ccrow4_col2\" class=\"data row4 col2\" >$4.37</td>\n",
       "            </tr>\n",
       "    </tbody></table>"
      ],
      "text/plain": [
       "<pandas.io.formats.style.Styler at 0x117057a10>"
      ]
     },
     "execution_count": 213,
     "metadata": {},
     "output_type": "execute_result"
    }
   ],
   "source": [
    "format_dict = {\"Total Purchase Value\": '${0:,.2f}',\n",
    "                \"Average Purchase Price\": '${0:,.2f}',\n",
    "              }\n",
    "top_spenders_formatted_df = top_spenders_df.head().style.format(format_dict)\n",
    "top_spenders_formatted_df"
   ]
  },
  {
   "cell_type": "markdown",
   "metadata": {},
   "source": [
    "## Most Popular Items"
   ]
  },
  {
   "cell_type": "markdown",
   "metadata": {},
   "source": [
    "* Retrieve the Item ID, Item Name, and Item Price columns\n",
    "\n",
    "\n",
    "* Group by Item ID and Item Name. Perform calculations to obtain purchase count, item price, and total purchase value\n",
    "\n",
    "\n",
    "* Create a summary data frame to hold the results\n",
    "\n",
    "\n",
    "* Sort the purchase count column in descending order\n",
    "\n",
    "\n",
    "* Optional: give the displayed data cleaner formatting\n",
    "\n",
    "\n",
    "* Display a preview of the summary data frame\n",
    "\n"
   ]
  },
  {
   "cell_type": "code",
   "execution_count": 415,
   "metadata": {},
   "outputs": [
    {
     "data": {
      "text/html": [
       "<div>\n",
       "<style scoped>\n",
       "    .dataframe tbody tr th:only-of-type {\n",
       "        vertical-align: middle;\n",
       "    }\n",
       "\n",
       "    .dataframe tbody tr th {\n",
       "        vertical-align: top;\n",
       "    }\n",
       "\n",
       "    .dataframe thead th {\n",
       "        text-align: right;\n",
       "    }\n",
       "</style>\n",
       "<table border=\"1\" class=\"dataframe\">\n",
       "  <thead>\n",
       "    <tr style=\"text-align: right;\">\n",
       "      <th></th>\n",
       "      <th>Item ID</th>\n",
       "      <th>Item Name</th>\n",
       "      <th>Price</th>\n",
       "    </tr>\n",
       "  </thead>\n",
       "  <tbody>\n",
       "    <tr>\n",
       "      <td>0</td>\n",
       "      <td>108</td>\n",
       "      <td>Extraction, Quickblade Of Trembling Hands</td>\n",
       "      <td>3.53</td>\n",
       "    </tr>\n",
       "    <tr>\n",
       "      <td>1</td>\n",
       "      <td>143</td>\n",
       "      <td>Frenzied Scimitar</td>\n",
       "      <td>1.56</td>\n",
       "    </tr>\n",
       "    <tr>\n",
       "      <td>2</td>\n",
       "      <td>92</td>\n",
       "      <td>Final Critic</td>\n",
       "      <td>4.88</td>\n",
       "    </tr>\n",
       "    <tr>\n",
       "      <td>3</td>\n",
       "      <td>100</td>\n",
       "      <td>Blindscythe</td>\n",
       "      <td>3.27</td>\n",
       "    </tr>\n",
       "    <tr>\n",
       "      <td>4</td>\n",
       "      <td>131</td>\n",
       "      <td>Fury</td>\n",
       "      <td>1.44</td>\n",
       "    </tr>\n",
       "    <tr>\n",
       "      <td>...</td>\n",
       "      <td>...</td>\n",
       "      <td>...</td>\n",
       "      <td>...</td>\n",
       "    </tr>\n",
       "    <tr>\n",
       "      <td>775</td>\n",
       "      <td>60</td>\n",
       "      <td>Wolf</td>\n",
       "      <td>3.54</td>\n",
       "    </tr>\n",
       "    <tr>\n",
       "      <td>776</td>\n",
       "      <td>164</td>\n",
       "      <td>Exiled Doomblade</td>\n",
       "      <td>1.63</td>\n",
       "    </tr>\n",
       "    <tr>\n",
       "      <td>777</td>\n",
       "      <td>67</td>\n",
       "      <td>Celeste, Incarnation of the Corrupted</td>\n",
       "      <td>3.46</td>\n",
       "    </tr>\n",
       "    <tr>\n",
       "      <td>778</td>\n",
       "      <td>92</td>\n",
       "      <td>Final Critic</td>\n",
       "      <td>4.19</td>\n",
       "    </tr>\n",
       "    <tr>\n",
       "      <td>779</td>\n",
       "      <td>50</td>\n",
       "      <td>Dawn</td>\n",
       "      <td>4.60</td>\n",
       "    </tr>\n",
       "  </tbody>\n",
       "</table>\n",
       "<p>780 rows × 3 columns</p>\n",
       "</div>"
      ],
      "text/plain": [
       "     Item ID                                  Item Name  Price\n",
       "0        108  Extraction, Quickblade Of Trembling Hands   3.53\n",
       "1        143                          Frenzied Scimitar   1.56\n",
       "2         92                               Final Critic   4.88\n",
       "3        100                                Blindscythe   3.27\n",
       "4        131                                       Fury   1.44\n",
       "..       ...                                        ...    ...\n",
       "775       60                                       Wolf   3.54\n",
       "776      164                           Exiled Doomblade   1.63\n",
       "777       67      Celeste, Incarnation of the Corrupted   3.46\n",
       "778       92                               Final Critic   4.19\n",
       "779       50                                       Dawn   4.60\n",
       "\n",
       "[780 rows x 3 columns]"
      ]
     },
     "execution_count": 415,
     "metadata": {},
     "output_type": "execute_result"
    }
   ],
   "source": [
    "items_df = purchase_data[[\"Item ID\", \"Item Name\", \"Price\"]]\n",
    "items_df"
   ]
  },
  {
   "cell_type": "code",
   "execution_count": 491,
   "metadata": {},
   "outputs": [
    {
     "data": {
      "text/plain": [
       "Item ID  Item Name                                   \n",
       "0        Splinter                                         4\n",
       "1        Crucifer                                         4\n",
       "2        Verdict                                          6\n",
       "3        Phantomlight                                     6\n",
       "4        Bloodlord's Fetish                               5\n",
       "                                                         ..\n",
       "178      Oathbreaker, Last Hope of the Breaking Storm    12\n",
       "179      Wolf, Promise of the Moonwalker                  6\n",
       "181      Reaper's Toll                                    5\n",
       "182      Toothpick                                        3\n",
       "183      Dragon's Greatsword                              3\n",
       "Name: Item Name, Length: 179, dtype: int64"
      ]
     },
     "execution_count": 491,
     "metadata": {},
     "output_type": "execute_result"
    }
   ],
   "source": [
    "purchases_per_item = items_df.groupby([\"Item ID\", \"Item Name\"])[\"Item Name\"].count()\n",
    "purchases_per_item"
   ]
  },
  {
   "cell_type": "code",
   "execution_count": 490,
   "metadata": {},
   "outputs": [
    {
     "data": {
      "text/plain": [
       "Item ID  Item Name                                   \n",
       "0        Splinter                                        1.2800\n",
       "1        Crucifer                                        2.9425\n",
       "2        Verdict                                         2.4800\n",
       "3        Phantomlight                                    2.4900\n",
       "4        Bloodlord's Fetish                              1.7000\n",
       "                                                          ...  \n",
       "178      Oathbreaker, Last Hope of the Breaking Storm    4.2300\n",
       "179      Wolf, Promise of the Moonwalker                 4.4800\n",
       "181      Reaper's Toll                                   1.6600\n",
       "182      Toothpick                                       4.0300\n",
       "183      Dragon's Greatsword                             1.0900\n",
       "Name: Price, Length: 179, dtype: float64"
      ]
     },
     "execution_count": 490,
     "metadata": {},
     "output_type": "execute_result"
    }
   ],
   "source": [
    "price_per_item = test_df.groupby([\"Item ID\", \"Item Name\"])[\"Price\"].mean()\n",
    "price_per_item"
   ]
  },
  {
   "cell_type": "code",
   "execution_count": 492,
   "metadata": {},
   "outputs": [
    {
     "data": {
      "text/plain": [
       "Item ID  Item Name                                   \n",
       "0        Splinter                                         5.12\n",
       "1        Crucifer                                        11.77\n",
       "2        Verdict                                         14.88\n",
       "3        Phantomlight                                    14.94\n",
       "4        Bloodlord's Fetish                               8.50\n",
       "                                                         ...  \n",
       "178      Oathbreaker, Last Hope of the Breaking Storm    50.76\n",
       "179      Wolf, Promise of the Moonwalker                 26.88\n",
       "181      Reaper's Toll                                    8.30\n",
       "182      Toothpick                                       12.09\n",
       "183      Dragon's Greatsword                              3.27\n",
       "Name: Price, Length: 179, dtype: float64"
      ]
     },
     "execution_count": 492,
     "metadata": {},
     "output_type": "execute_result"
    }
   ],
   "source": [
    "total_purchase_value_per_item = test_df.groupby([\"Item ID\", \"Item Name\"])[\"Price\"].sum()\n",
    "total_purchase_value_per_item"
   ]
  },
  {
   "cell_type": "code",
   "execution_count": 493,
   "metadata": {},
   "outputs": [
    {
     "data": {
      "text/html": [
       "<div>\n",
       "<style scoped>\n",
       "    .dataframe tbody tr th:only-of-type {\n",
       "        vertical-align: middle;\n",
       "    }\n",
       "\n",
       "    .dataframe tbody tr th {\n",
       "        vertical-align: top;\n",
       "    }\n",
       "\n",
       "    .dataframe thead th {\n",
       "        text-align: right;\n",
       "    }\n",
       "</style>\n",
       "<table border=\"1\" class=\"dataframe\">\n",
       "  <thead>\n",
       "    <tr style=\"text-align: right;\">\n",
       "      <th></th>\n",
       "      <th></th>\n",
       "      <th>Purchase Count</th>\n",
       "      <th>Item Price</th>\n",
       "      <th>Total Purchase Value</th>\n",
       "    </tr>\n",
       "    <tr>\n",
       "      <th>Item ID</th>\n",
       "      <th>Item Name</th>\n",
       "      <th></th>\n",
       "      <th></th>\n",
       "      <th></th>\n",
       "    </tr>\n",
       "  </thead>\n",
       "  <tbody>\n",
       "    <tr>\n",
       "      <td>0</td>\n",
       "      <td>Splinter</td>\n",
       "      <td>4</td>\n",
       "      <td>1.2800</td>\n",
       "      <td>5.12</td>\n",
       "    </tr>\n",
       "    <tr>\n",
       "      <td>1</td>\n",
       "      <td>Crucifer</td>\n",
       "      <td>4</td>\n",
       "      <td>2.9425</td>\n",
       "      <td>11.77</td>\n",
       "    </tr>\n",
       "    <tr>\n",
       "      <td>2</td>\n",
       "      <td>Verdict</td>\n",
       "      <td>6</td>\n",
       "      <td>2.4800</td>\n",
       "      <td>14.88</td>\n",
       "    </tr>\n",
       "    <tr>\n",
       "      <td>3</td>\n",
       "      <td>Phantomlight</td>\n",
       "      <td>6</td>\n",
       "      <td>2.4900</td>\n",
       "      <td>14.94</td>\n",
       "    </tr>\n",
       "    <tr>\n",
       "      <td>4</td>\n",
       "      <td>Bloodlord's Fetish</td>\n",
       "      <td>5</td>\n",
       "      <td>1.7000</td>\n",
       "      <td>8.50</td>\n",
       "    </tr>\n",
       "    <tr>\n",
       "      <td>...</td>\n",
       "      <td>...</td>\n",
       "      <td>...</td>\n",
       "      <td>...</td>\n",
       "      <td>...</td>\n",
       "    </tr>\n",
       "    <tr>\n",
       "      <td>178</td>\n",
       "      <td>Oathbreaker, Last Hope of the Breaking Storm</td>\n",
       "      <td>12</td>\n",
       "      <td>4.2300</td>\n",
       "      <td>50.76</td>\n",
       "    </tr>\n",
       "    <tr>\n",
       "      <td>179</td>\n",
       "      <td>Wolf, Promise of the Moonwalker</td>\n",
       "      <td>6</td>\n",
       "      <td>4.4800</td>\n",
       "      <td>26.88</td>\n",
       "    </tr>\n",
       "    <tr>\n",
       "      <td>181</td>\n",
       "      <td>Reaper's Toll</td>\n",
       "      <td>5</td>\n",
       "      <td>1.6600</td>\n",
       "      <td>8.30</td>\n",
       "    </tr>\n",
       "    <tr>\n",
       "      <td>182</td>\n",
       "      <td>Toothpick</td>\n",
       "      <td>3</td>\n",
       "      <td>4.0300</td>\n",
       "      <td>12.09</td>\n",
       "    </tr>\n",
       "    <tr>\n",
       "      <td>183</td>\n",
       "      <td>Dragon's Greatsword</td>\n",
       "      <td>3</td>\n",
       "      <td>1.0900</td>\n",
       "      <td>3.27</td>\n",
       "    </tr>\n",
       "  </tbody>\n",
       "</table>\n",
       "<p>179 rows × 3 columns</p>\n",
       "</div>"
      ],
      "text/plain": [
       "                                                      Purchase Count  \\\n",
       "Item ID Item Name                                                      \n",
       "0       Splinter                                                   4   \n",
       "1       Crucifer                                                   4   \n",
       "2       Verdict                                                    6   \n",
       "3       Phantomlight                                               6   \n",
       "4       Bloodlord's Fetish                                         5   \n",
       "...                                                              ...   \n",
       "178     Oathbreaker, Last Hope of the Breaking Storm              12   \n",
       "179     Wolf, Promise of the Moonwalker                            6   \n",
       "181     Reaper's Toll                                              5   \n",
       "182     Toothpick                                                  3   \n",
       "183     Dragon's Greatsword                                        3   \n",
       "\n",
       "                                                      Item Price  \\\n",
       "Item ID Item Name                                                  \n",
       "0       Splinter                                          1.2800   \n",
       "1       Crucifer                                          2.9425   \n",
       "2       Verdict                                           2.4800   \n",
       "3       Phantomlight                                      2.4900   \n",
       "4       Bloodlord's Fetish                                1.7000   \n",
       "...                                                          ...   \n",
       "178     Oathbreaker, Last Hope of the Breaking Storm      4.2300   \n",
       "179     Wolf, Promise of the Moonwalker                   4.4800   \n",
       "181     Reaper's Toll                                     1.6600   \n",
       "182     Toothpick                                         4.0300   \n",
       "183     Dragon's Greatsword                               1.0900   \n",
       "\n",
       "                                                      Total Purchase Value  \n",
       "Item ID Item Name                                                           \n",
       "0       Splinter                                                      5.12  \n",
       "1       Crucifer                                                     11.77  \n",
       "2       Verdict                                                      14.88  \n",
       "3       Phantomlight                                                 14.94  \n",
       "4       Bloodlord's Fetish                                            8.50  \n",
       "...                                                                    ...  \n",
       "178     Oathbreaker, Last Hope of the Breaking Storm                 50.76  \n",
       "179     Wolf, Promise of the Moonwalker                              26.88  \n",
       "181     Reaper's Toll                                                 8.30  \n",
       "182     Toothpick                                                    12.09  \n",
       "183     Dragon's Greatsword                                           3.27  \n",
       "\n",
       "[179 rows x 3 columns]"
      ]
     },
     "execution_count": 493,
     "metadata": {},
     "output_type": "execute_result"
    }
   ],
   "source": [
    "final_items_df = pd.concat([purchases_per_item,\n",
    "                            price_per_item,\n",
    "                            total_purchase_value_per_item\n",
    "                           ],\n",
    "                           axis = 1,\n",
    "                           keys = [\"Purchase Count\", \"Item Price\", \"Total Purchase Value\"]\n",
    "                          )\n",
    "final_items_df"
   ]
  },
  {
   "cell_type": "code",
   "execution_count": 499,
   "metadata": {},
   "outputs": [
    {
     "data": {
      "text/html": [
       "<style  type=\"text/css\" >\n",
       "</style><table id=\"T_e4d6fa0e_82e0_11ea_8e4a_38f9d36b63cc\" ><thead>    <tr>        <th class=\"blank\" ></th>        <th class=\"blank level0\" ></th>        <th class=\"col_heading level0 col0\" >Purchase Count</th>        <th class=\"col_heading level0 col1\" >Item Price</th>        <th class=\"col_heading level0 col2\" >Total Purchase Value</th>    </tr>    <tr>        <th class=\"index_name level0\" >Item ID</th>        <th class=\"index_name level1\" >Item Name</th>        <th class=\"blank\" ></th>        <th class=\"blank\" ></th>        <th class=\"blank\" ></th>    </tr></thead><tbody>\n",
       "                <tr>\n",
       "                        <th id=\"T_e4d6fa0e_82e0_11ea_8e4a_38f9d36b63cclevel0_row0\" class=\"row_heading level0 row0\" >92</th>\n",
       "                        <th id=\"T_e4d6fa0e_82e0_11ea_8e4a_38f9d36b63cclevel1_row0\" class=\"row_heading level1 row0\" >Final Critic</th>\n",
       "                        <td id=\"T_e4d6fa0e_82e0_11ea_8e4a_38f9d36b63ccrow0_col0\" class=\"data row0 col0\" >13</td>\n",
       "                        <td id=\"T_e4d6fa0e_82e0_11ea_8e4a_38f9d36b63ccrow0_col1\" class=\"data row0 col1\" >$4.61</td>\n",
       "                        <td id=\"T_e4d6fa0e_82e0_11ea_8e4a_38f9d36b63ccrow0_col2\" class=\"data row0 col2\" >$59.99</td>\n",
       "            </tr>\n",
       "            <tr>\n",
       "                        <th id=\"T_e4d6fa0e_82e0_11ea_8e4a_38f9d36b63cclevel0_row1\" class=\"row_heading level0 row1\" >178</th>\n",
       "                        <th id=\"T_e4d6fa0e_82e0_11ea_8e4a_38f9d36b63cclevel1_row1\" class=\"row_heading level1 row1\" >Oathbreaker, Last Hope of the Breaking Storm</th>\n",
       "                        <td id=\"T_e4d6fa0e_82e0_11ea_8e4a_38f9d36b63ccrow1_col0\" class=\"data row1 col0\" >12</td>\n",
       "                        <td id=\"T_e4d6fa0e_82e0_11ea_8e4a_38f9d36b63ccrow1_col1\" class=\"data row1 col1\" >$4.23</td>\n",
       "                        <td id=\"T_e4d6fa0e_82e0_11ea_8e4a_38f9d36b63ccrow1_col2\" class=\"data row1 col2\" >$50.76</td>\n",
       "            </tr>\n",
       "            <tr>\n",
       "                        <th id=\"T_e4d6fa0e_82e0_11ea_8e4a_38f9d36b63cclevel0_row2\" class=\"row_heading level0 row2\" >145</th>\n",
       "                        <th id=\"T_e4d6fa0e_82e0_11ea_8e4a_38f9d36b63cclevel1_row2\" class=\"row_heading level1 row2\" >Fiery Glass Crusader</th>\n",
       "                        <td id=\"T_e4d6fa0e_82e0_11ea_8e4a_38f9d36b63ccrow2_col0\" class=\"data row2 col0\" >9</td>\n",
       "                        <td id=\"T_e4d6fa0e_82e0_11ea_8e4a_38f9d36b63ccrow2_col1\" class=\"data row2 col1\" >$4.58</td>\n",
       "                        <td id=\"T_e4d6fa0e_82e0_11ea_8e4a_38f9d36b63ccrow2_col2\" class=\"data row2 col2\" >$41.22</td>\n",
       "            </tr>\n",
       "            <tr>\n",
       "                        <th id=\"T_e4d6fa0e_82e0_11ea_8e4a_38f9d36b63cclevel0_row3\" class=\"row_heading level0 row3\" >132</th>\n",
       "                        <th id=\"T_e4d6fa0e_82e0_11ea_8e4a_38f9d36b63cclevel1_row3\" class=\"row_heading level1 row3\" >Persuasion</th>\n",
       "                        <td id=\"T_e4d6fa0e_82e0_11ea_8e4a_38f9d36b63ccrow3_col0\" class=\"data row3 col0\" >9</td>\n",
       "                        <td id=\"T_e4d6fa0e_82e0_11ea_8e4a_38f9d36b63ccrow3_col1\" class=\"data row3 col1\" >$3.22</td>\n",
       "                        <td id=\"T_e4d6fa0e_82e0_11ea_8e4a_38f9d36b63ccrow3_col2\" class=\"data row3 col2\" >$28.99</td>\n",
       "            </tr>\n",
       "            <tr>\n",
       "                        <th id=\"T_e4d6fa0e_82e0_11ea_8e4a_38f9d36b63cclevel0_row4\" class=\"row_heading level0 row4\" >108</th>\n",
       "                        <th id=\"T_e4d6fa0e_82e0_11ea_8e4a_38f9d36b63cclevel1_row4\" class=\"row_heading level1 row4\" >Extraction, Quickblade Of Trembling Hands</th>\n",
       "                        <td id=\"T_e4d6fa0e_82e0_11ea_8e4a_38f9d36b63ccrow4_col0\" class=\"data row4 col0\" >9</td>\n",
       "                        <td id=\"T_e4d6fa0e_82e0_11ea_8e4a_38f9d36b63ccrow4_col1\" class=\"data row4 col1\" >$3.53</td>\n",
       "                        <td id=\"T_e4d6fa0e_82e0_11ea_8e4a_38f9d36b63ccrow4_col2\" class=\"data row4 col2\" >$31.77</td>\n",
       "            </tr>\n",
       "    </tbody></table>"
      ],
      "text/plain": [
       "<pandas.io.formats.style.Styler at 0x1174fbd50>"
      ]
     },
     "execution_count": 499,
     "metadata": {},
     "output_type": "execute_result"
    }
   ],
   "source": [
    "format_dict = {\"Item Price\": '${0:,.2f}', \n",
    "               \"Total Purchase Value\": '${0:,.2f}' }\n",
    "most_popular_items_df_formatted = final_items_df.sort_values(\"Purchase Count\", ascending = False).head().style.format(format_dict)\n",
    "most_popular_items_df_formatted"
   ]
  },
  {
   "cell_type": "markdown",
   "metadata": {},
   "source": [
    "## Most Profitable Items"
   ]
  },
  {
   "cell_type": "markdown",
   "metadata": {},
   "source": [
    "* Sort the above table by total purchase value in descending order\n",
    "\n",
    "\n",
    "* Optional: give the displayed data cleaner formatting\n",
    "\n",
    "\n",
    "* Display a preview of the data frame\n",
    "\n"
   ]
  },
  {
   "cell_type": "code",
   "execution_count": 517,
   "metadata": {},
   "outputs": [
    {
     "data": {
      "text/html": [
       "<style  type=\"text/css\" >\n",
       "</style><table id=\"T_061da49c_82e6_11ea_8e4a_38f9d36b63cc\" ><thead>    <tr>        <th class=\"blank\" ></th>        <th class=\"blank level0\" ></th>        <th class=\"col_heading level0 col0\" >Purchase Count</th>        <th class=\"col_heading level0 col1\" >Item Price</th>        <th class=\"col_heading level0 col2\" >Total Purchase Value</th>    </tr>    <tr>        <th class=\"index_name level0\" >Item ID</th>        <th class=\"index_name level1\" >Item Name</th>        <th class=\"blank\" ></th>        <th class=\"blank\" ></th>        <th class=\"blank\" ></th>    </tr></thead><tbody>\n",
       "                <tr>\n",
       "                        <th id=\"T_061da49c_82e6_11ea_8e4a_38f9d36b63cclevel0_row0\" class=\"row_heading level0 row0\" >92</th>\n",
       "                        <th id=\"T_061da49c_82e6_11ea_8e4a_38f9d36b63cclevel1_row0\" class=\"row_heading level1 row0\" >Final Critic</th>\n",
       "                        <td id=\"T_061da49c_82e6_11ea_8e4a_38f9d36b63ccrow0_col0\" class=\"data row0 col0\" >13</td>\n",
       "                        <td id=\"T_061da49c_82e6_11ea_8e4a_38f9d36b63ccrow0_col1\" class=\"data row0 col1\" >$4.61</td>\n",
       "                        <td id=\"T_061da49c_82e6_11ea_8e4a_38f9d36b63ccrow0_col2\" class=\"data row0 col2\" >$59.99</td>\n",
       "            </tr>\n",
       "            <tr>\n",
       "                        <th id=\"T_061da49c_82e6_11ea_8e4a_38f9d36b63cclevel0_row1\" class=\"row_heading level0 row1\" >178</th>\n",
       "                        <th id=\"T_061da49c_82e6_11ea_8e4a_38f9d36b63cclevel1_row1\" class=\"row_heading level1 row1\" >Oathbreaker, Last Hope of the Breaking Storm</th>\n",
       "                        <td id=\"T_061da49c_82e6_11ea_8e4a_38f9d36b63ccrow1_col0\" class=\"data row1 col0\" >12</td>\n",
       "                        <td id=\"T_061da49c_82e6_11ea_8e4a_38f9d36b63ccrow1_col1\" class=\"data row1 col1\" >$4.23</td>\n",
       "                        <td id=\"T_061da49c_82e6_11ea_8e4a_38f9d36b63ccrow1_col2\" class=\"data row1 col2\" >$50.76</td>\n",
       "            </tr>\n",
       "            <tr>\n",
       "                        <th id=\"T_061da49c_82e6_11ea_8e4a_38f9d36b63cclevel0_row2\" class=\"row_heading level0 row2\" >82</th>\n",
       "                        <th id=\"T_061da49c_82e6_11ea_8e4a_38f9d36b63cclevel1_row2\" class=\"row_heading level1 row2\" >Nirvana</th>\n",
       "                        <td id=\"T_061da49c_82e6_11ea_8e4a_38f9d36b63ccrow2_col0\" class=\"data row2 col0\" >9</td>\n",
       "                        <td id=\"T_061da49c_82e6_11ea_8e4a_38f9d36b63ccrow2_col1\" class=\"data row2 col1\" >$4.90</td>\n",
       "                        <td id=\"T_061da49c_82e6_11ea_8e4a_38f9d36b63ccrow2_col2\" class=\"data row2 col2\" >$44.10</td>\n",
       "            </tr>\n",
       "            <tr>\n",
       "                        <th id=\"T_061da49c_82e6_11ea_8e4a_38f9d36b63cclevel0_row3\" class=\"row_heading level0 row3\" >145</th>\n",
       "                        <th id=\"T_061da49c_82e6_11ea_8e4a_38f9d36b63cclevel1_row3\" class=\"row_heading level1 row3\" >Fiery Glass Crusader</th>\n",
       "                        <td id=\"T_061da49c_82e6_11ea_8e4a_38f9d36b63ccrow3_col0\" class=\"data row3 col0\" >9</td>\n",
       "                        <td id=\"T_061da49c_82e6_11ea_8e4a_38f9d36b63ccrow3_col1\" class=\"data row3 col1\" >$4.58</td>\n",
       "                        <td id=\"T_061da49c_82e6_11ea_8e4a_38f9d36b63ccrow3_col2\" class=\"data row3 col2\" >$41.22</td>\n",
       "            </tr>\n",
       "            <tr>\n",
       "                        <th id=\"T_061da49c_82e6_11ea_8e4a_38f9d36b63cclevel0_row4\" class=\"row_heading level0 row4\" >103</th>\n",
       "                        <th id=\"T_061da49c_82e6_11ea_8e4a_38f9d36b63cclevel1_row4\" class=\"row_heading level1 row4\" >Singed Scalpel</th>\n",
       "                        <td id=\"T_061da49c_82e6_11ea_8e4a_38f9d36b63ccrow4_col0\" class=\"data row4 col0\" >8</td>\n",
       "                        <td id=\"T_061da49c_82e6_11ea_8e4a_38f9d36b63ccrow4_col1\" class=\"data row4 col1\" >$4.35</td>\n",
       "                        <td id=\"T_061da49c_82e6_11ea_8e4a_38f9d36b63ccrow4_col2\" class=\"data row4 col2\" >$34.80</td>\n",
       "            </tr>\n",
       "    </tbody></table>"
      ],
      "text/plain": [
       "<pandas.io.formats.style.Styler at 0x117485cd0>"
      ]
     },
     "execution_count": 517,
     "metadata": {},
     "output_type": "execute_result"
    }
   ],
   "source": [
    "format_dict = {\"Item Price\": '${0:,.2f}', \n",
    "               \"Total Purchase Value\": '${0:,.2f}' }\n",
    "most_profitable_items_df_formatted = final_items_df.sort_values(\"Total Purchase Value\", ascending = False).head().style.format(format_dict)\n",
    "most_profitable_items_df_formatted"
   ]
  },
  {
   "cell_type": "code",
   "execution_count": null,
   "metadata": {},
   "outputs": [],
   "source": []
  }
 ],
 "metadata": {
  "anaconda-cloud": {},
  "kernel_info": {
   "name": "python3"
  },
  "kernelspec": {
   "display_name": "Python 3",
   "language": "python",
   "name": "python3"
  },
  "language_info": {
   "codemirror_mode": {
    "name": "ipython",
    "version": 3
   },
   "file_extension": ".py",
   "mimetype": "text/x-python",
   "name": "python",
   "nbconvert_exporter": "python",
   "pygments_lexer": "ipython3",
   "version": "3.7.4"
  },
  "latex_envs": {
   "LaTeX_envs_menu_present": true,
   "autoclose": false,
   "autocomplete": true,
   "bibliofile": "biblio.bib",
   "cite_by": "apalike",
   "current_citInitial": 1,
   "eqLabelWithNumbers": true,
   "eqNumInitial": 1,
   "hotkeys": {
    "equation": "Ctrl-E",
    "itemize": "Ctrl-I"
   },
   "labels_anchors": false,
   "latex_user_defs": false,
   "report_style_numbering": false,
   "user_envs_cfg": false
  },
  "nteract": {
   "version": "0.2.0"
  }
 },
 "nbformat": 4,
 "nbformat_minor": 4
}
